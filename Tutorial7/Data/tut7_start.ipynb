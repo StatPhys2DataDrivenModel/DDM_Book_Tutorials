{
 "cells": [
  {
   "cell_type": "code",
   "execution_count": null,
   "metadata": {
    "collapsed": true
   },
   "outputs": [],
   "source": [
    "#Information, Inference Networks: Tutorial 7.  S.C., R.M., F.Z.\n",
    "#Perceptron algorithm for PDZ binding to peptides\n",
    "import numpy as np\n",
    "import pandas as pd\n",
    "import math\n",
    "import matplotlib.pyplot as plt\n",
    "from scipy.sparse import coo_matrix\n",
    "import numpy.matlib\n",
    "import numpy.linalg as LA\n",
    "from numpy.linalg import inv"
   ]
  },
  {
   "cell_type": "code",
   "execution_count": null,
   "metadata": {
    "collapsed": true
   },
   "outputs": [],
   "source": [
    "def letter2number(a): \n",
    "    #to convert the amino acids letters into integer numbers from 0 to 20\n",
    "    switcher = {\n",
    "        '-': 0,\n",
    "        'A': 1,\n",
    "        'C': 2,\n",
    "        'D':3,\n",
    "        'E':4,\n",
    "        'F':5,\n",
    "        'G':6,\n",
    "        'H':7,\n",
    "        'I':8,\n",
    "        'K':9,\n",
    "        'L':10,\n",
    "        'M':11,\n",
    "        'N':12,\n",
    "        'P':13,\n",
    "        'Q':14,\n",
    "        'R':15,\n",
    "        'S':16,\n",
    "        'T':17,\n",
    "        'V':18,\n",
    "        'W':19,\n",
    "        'Y':20,     \n",
    "    }\n",
    "    #return switcher.get(a, \"nothing\")\n",
    "    return switcher.get(a,0)\n",
    "\n",
    "def seq2number(a):\n",
    "    ris = []\n",
    "    for i in range(len(a)):\n",
    "        ris.append(letter2number(a[i]))\n",
    "    return ris"
   ]
  },
  {
   "cell_type": "code",
   "execution_count": null,
   "metadata": {
    "collapsed": true
   },
   "outputs": [],
   "source": [
    "int_matrix = pd.read_excel('fp_interaction_matrix.xlsx', index_col=0)\n",
    "PDZ = np.array(int_matrix.index)\n",
    "NPDZ=len(PDZ)\n",
    "print(NPDZ)"
   ]
  },
  {
   "cell_type": "code",
   "execution_count": null,
   "metadata": {
    "collapsed": true
   },
   "outputs": [],
   "source": [
    "# ATTENTION: the peptides in peptides.free are not in the same order as in the interaction matrix\n",
    "pep = []\n",
    "with open('peptides.free') as f:\n",
    "    for line in f:\n",
    "        x = line.split()\n",
    "        pep.append(x)\n",
    "Npep=len(pep)\n",
    "print(Npep)\n",
    "# check that all the peptides are correctly listed in pep\n",
    "for i in range(Npep):\n",
    "    if len(np.extract(int_matrix.columns==pep[i][0],int_matrix.columns))==0 :\n",
    "        print(pep[i])"
   ]
  },
  {
   "cell_type": "code",
   "execution_count": null,
   "metadata": {
    "collapsed": true
   },
   "outputs": [],
   "source": [
    "int_matrix"
   ]
  },
  {
   "cell_type": "code",
   "execution_count": null,
   "metadata": {
    "collapsed": true
   },
   "outputs": [],
   "source": [
    "# Check that the binding is read correctly\n",
    "i=11\n",
    "j=6\n",
    "print('PDZ: ',PDZ[i],'\\nPeptide: ',pep[j][0],'with sequence',pep[j][1],\n",
    "      '\\nInteraction:',int_matrix.get_value(PDZ[i],pep[j][0]))"
   ]
  },
  {
   "cell_type": "code",
   "execution_count": null,
   "metadata": {
    "collapsed": true
   },
   "outputs": [],
   "source": [
    "# Construct the matrix of peptide sequences\n",
    "tmp = []\n",
    "for i in range(Npep):\n",
    "    tmp.append(seq2number(pep[i][1][:]))\n",
    "pep_seq=np.asarray(tmp)\n",
    "print(np.shape(pep_seq))\n",
    "Nbase=np.shape(pep_seq)[1]"
   ]
  },
  {
   "cell_type": "code",
   "execution_count": null,
   "metadata": {
    "collapsed": true
   },
   "outputs": [],
   "source": [
    "#Expand the matrix in a bynary (Npep,19x10) array X by a one-hot encoding\n",
    "#gauge: last a.a. remove the last symbol\n",
    "#add a last line of all one to have a constant term in dot(X,J)\n",
    "q=20\n",
    "#X=-np.ones((Npep,Nbase*(q-1)+1))    ### USE {-1,1} CONVENTION FOR INPUT\n",
    "X=np.zeros((Npep,Nbase*(q-1)+1))   ### USE {0,1} CONVENTION FOR INPUT\n",
    "for m in range(Npep):\n",
    "    X[m,Nbase*(q-1)]=1\n",
    "    for i in range(Nbase):\n",
    "        if (pep_seq[m,i]!=q):\n",
    "            X[m,i*(q-1)+pep_seq[m,i]-1]=1\n",
    "print(np.shape(X))"
   ]
  },
  {
   "cell_type": "code",
   "execution_count": null,
   "metadata": {
    "collapsed": true
   },
   "outputs": [],
   "source": [
    "#Get for a given PDZ the label vector Y\n",
    "def getY(iPDZ):\n",
    "    Y = -np.ones(Npep)\n",
    "    for j in range(Npep):\n",
    "        Kd=int_matrix.get_value(PDZ[iPDZ],pep[j][0])\n",
    "        if (Kd>0 and Kd<100000):\n",
    "            Y[j]=1\n",
    "    return Y"
   ]
  },
  {
   "cell_type": "code",
   "execution_count": null,
   "metadata": {
    "collapsed": true
   },
   "outputs": [],
   "source": [
    "# Check how many peptides are binding to each PDZ\n",
    "binding=[]\n",
    "for j in range(NPDZ):\n",
    "    Y=getY(j)\n",
    "    binding.append(sum(Y>0))\n",
    "print(binding)"
   ]
  },
  {
   "cell_type": "code",
   "execution_count": null,
   "metadata": {
    "collapsed": true
   },
   "outputs": [],
   "source": []
  }
 ],
 "metadata": {
  "anaconda-cloud": {},
  "kernelspec": {
   "display_name": "Python 3",
   "language": "python",
   "name": "python3"
  },
  "language_info": {
   "codemirror_mode": {
    "name": "ipython",
    "version": 3
   },
   "file_extension": ".py",
   "mimetype": "text/x-python",
   "name": "python",
   "nbconvert_exporter": "python",
   "pygments_lexer": "ipython3",
   "version": "3.6.3"
  }
 },
 "nbformat": 4,
 "nbformat_minor": 1
}
