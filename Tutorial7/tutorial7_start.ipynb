{
 "cells": [
  {
   "cell_type": "markdown",
   "metadata": {},
   "source": [
    "# From Statistical Physics to Data-Driven Modelling with Applications to Quantitative Biology\n",
    "\n",
    "Tutorial 7: Learning a Perceptron for the prediction of binding between PDZ proteins and peptides.\n",
    "\n",
    "Data are taken from the work: \n",
    "\n",
    "Michael A. Stiffler, Jiunn R. Chen, Viara P. Grantcharova, Ying Lei, Daniel Fuchs, John E. Allen, Lioudmila A. Zaslavskaia, Gavin MacBeath, PDZ Domain Binding Selectivity Is Optimized Across the Mouse Proteome. Science 317, 364 (2007)\n",
    "\n",
    "\n",
    "Starting Notebook SC RM FZ.\n"
   ]
  },
  {
   "cell_type": "code",
   "execution_count": 6,
   "metadata": {},
   "outputs": [],
   "source": [
    "import numpy as np\n",
    "import pandas as pd\n",
    "import math\n",
    "import matplotlib.pyplot as plt\n",
    "%matplotlib inline\n",
    "#plt.rcParams[\"font.family\"] = \"serif\"\n",
    "#plt.rcParams[\"mathtext.fontset\"] = \"dejavuserif\"\n",
    "#plt.rcParams[\"figure.figsize\"] = (10, 8)\n",
    "#plt.rcParams[\"font.size\"] = 26\n",
    "\n",
    "from scipy.sparse import coo_matrix\n",
    "import numpy.matlib\n",
    "import numpy.linalg as LA\n",
    "from numpy.linalg import inv"
   ]
  },
  {
   "cell_type": "markdown",
   "metadata": {},
   "source": [
    "Useful functions to read and process the data."
   ]
  },
  {
   "cell_type": "code",
   "execution_count": 7,
   "metadata": {},
   "outputs": [],
   "source": [
    "# Function to convert the amino acids letters into integer numbers from 0 to 20\n",
    "def letter2number(a): \n",
    "    \n",
    "    switcher = {\n",
    "        '-': 0,\n",
    "        'A': 1,\n",
    "        'C': 2,\n",
    "        'D':3,\n",
    "        'E':4,\n",
    "        'F':5,\n",
    "        'G':6,\n",
    "        'H':7,\n",
    "        'I':8,\n",
    "        'K':9,\n",
    "        'L':10,\n",
    "        'M':11,\n",
    "        'N':12,\n",
    "        'P':13,\n",
    "        'Q':14,\n",
    "        'R':15,\n",
    "        'S':16,\n",
    "        'T':17,\n",
    "        'V':18,\n",
    "        'W':19,\n",
    "        'Y':20,     \n",
    "    }\n",
    "    #return switcher.get(a, \"nothing\")\n",
    "    return switcher.get(a,0)\n",
    "\n",
    "def seq2number(a):\n",
    "    ris = []\n",
    "    for i in range(len(a)):\n",
    "        ris.append(letter2number(a[i]))\n",
    "    return ris"
   ]
  },
  {
   "cell_type": "markdown",
   "metadata": {},
   "source": [
    "Read the PDZ-peptides interaction matrix"
   ]
  },
  {
   "cell_type": "code",
   "execution_count": 8,
   "metadata": {},
   "outputs": [
    {
     "name": "stdout",
     "output_type": "stream",
     "text": [
      "74\n"
     ]
    }
   ],
   "source": [
    "int_matrix = pd.read_excel('./Data/fp_interaction_matrix.xlsx', index_col=0)\n",
    "PDZ = np.array(int_matrix.index)\n",
    "NPDZ=len(PDZ)\n",
    "print(NPDZ)"
   ]
  },
  {
   "cell_type": "code",
   "execution_count": 9,
   "metadata": {},
   "outputs": [
    {
     "data": {
      "text/html": [
       "<div>\n",
       "<style scoped>\n",
       "    .dataframe tbody tr th:only-of-type {\n",
       "        vertical-align: middle;\n",
       "    }\n",
       "\n",
       "    .dataframe tbody tr th {\n",
       "        vertical-align: top;\n",
       "    }\n",
       "\n",
       "    .dataframe thead th {\n",
       "        text-align: right;\n",
       "    }\n",
       "</style>\n",
       "<table border=\"1\" class=\"dataframe\">\n",
       "  <thead>\n",
       "    <tr style=\"text-align: right;\">\n",
       "      <th></th>\n",
       "      <th>AcvR1</th>\n",
       "      <th>AcvR2</th>\n",
       "      <th>AcvR2b</th>\n",
       "      <th>AN2</th>\n",
       "      <th>APC</th>\n",
       "      <th>Aquaporin4</th>\n",
       "      <th>ASIC2</th>\n",
       "      <th>AXL</th>\n",
       "      <th>Cacna1a</th>\n",
       "      <th>Caspr2</th>\n",
       "      <th>...</th>\n",
       "      <th>TRPV3</th>\n",
       "      <th>TRPV4</th>\n",
       "      <th>TRPV6</th>\n",
       "      <th>TYRO3</th>\n",
       "      <th>VEGFR2</th>\n",
       "      <th>VEGFR3</th>\n",
       "      <th>Unnamed: 218</th>\n",
       "      <th>Unnamed: 219</th>\n",
       "      <th>Unnamed: 220</th>\n",
       "      <th>Unnamed: 221</th>\n",
       "    </tr>\n",
       "  </thead>\n",
       "  <tbody>\n",
       "    <tr>\n",
       "      <th>Cipp (03/10)</th>\n",
       "      <td>0</td>\n",
       "      <td>0.0</td>\n",
       "      <td>-1.0</td>\n",
       "      <td>-1.0</td>\n",
       "      <td>-1</td>\n",
       "      <td>-1.0</td>\n",
       "      <td>-1</td>\n",
       "      <td>-1</td>\n",
       "      <td>-1.0</td>\n",
       "      <td>4162.31648</td>\n",
       "      <td>...</td>\n",
       "      <td>-1.0</td>\n",
       "      <td>-1</td>\n",
       "      <td>-1</td>\n",
       "      <td>-1</td>\n",
       "      <td>-1</td>\n",
       "      <td>-1</td>\n",
       "      <td>NaN</td>\n",
       "      <td>NaN</td>\n",
       "      <td>NaN</td>\n",
       "      <td>NaN</td>\n",
       "    </tr>\n",
       "    <tr>\n",
       "      <th>Cipp (05/10)</th>\n",
       "      <td>0</td>\n",
       "      <td>0.0</td>\n",
       "      <td>0.0</td>\n",
       "      <td>0.0</td>\n",
       "      <td>0</td>\n",
       "      <td>0.0</td>\n",
       "      <td>0</td>\n",
       "      <td>0</td>\n",
       "      <td>0.0</td>\n",
       "      <td>0.00000</td>\n",
       "      <td>...</td>\n",
       "      <td>0.0</td>\n",
       "      <td>0</td>\n",
       "      <td>-1</td>\n",
       "      <td>0</td>\n",
       "      <td>0</td>\n",
       "      <td>0</td>\n",
       "      <td>NaN</td>\n",
       "      <td>NaN</td>\n",
       "      <td>NaN</td>\n",
       "      <td>NaN</td>\n",
       "    </tr>\n",
       "    <tr>\n",
       "      <th>Cipp (08/10)</th>\n",
       "      <td>0</td>\n",
       "      <td>0.0</td>\n",
       "      <td>0.0</td>\n",
       "      <td>0.0</td>\n",
       "      <td>-1</td>\n",
       "      <td>-1.0</td>\n",
       "      <td>0</td>\n",
       "      <td>0</td>\n",
       "      <td>0.0</td>\n",
       "      <td>0.00000</td>\n",
       "      <td>...</td>\n",
       "      <td>0.0</td>\n",
       "      <td>0</td>\n",
       "      <td>0</td>\n",
       "      <td>0</td>\n",
       "      <td>0</td>\n",
       "      <td>0</td>\n",
       "      <td>NaN</td>\n",
       "      <td>NaN</td>\n",
       "      <td>NaN</td>\n",
       "      <td>NaN</td>\n",
       "    </tr>\n",
       "    <tr>\n",
       "      <th>Cipp (09/10)</th>\n",
       "      <td>0</td>\n",
       "      <td>0.0</td>\n",
       "      <td>0.0</td>\n",
       "      <td>-1.0</td>\n",
       "      <td>0</td>\n",
       "      <td>-1.0</td>\n",
       "      <td>0</td>\n",
       "      <td>0</td>\n",
       "      <td>0.0</td>\n",
       "      <td>0.00000</td>\n",
       "      <td>...</td>\n",
       "      <td>0.0</td>\n",
       "      <td>0</td>\n",
       "      <td>0</td>\n",
       "      <td>-1</td>\n",
       "      <td>0</td>\n",
       "      <td>0</td>\n",
       "      <td>NaN</td>\n",
       "      <td>NaN</td>\n",
       "      <td>NaN</td>\n",
       "      <td>NaN</td>\n",
       "    </tr>\n",
       "    <tr>\n",
       "      <th>Cipp (10/10)</th>\n",
       "      <td>0</td>\n",
       "      <td>0.0</td>\n",
       "      <td>0.0</td>\n",
       "      <td>0.0</td>\n",
       "      <td>-1</td>\n",
       "      <td>0.0</td>\n",
       "      <td>0</td>\n",
       "      <td>-1</td>\n",
       "      <td>0.0</td>\n",
       "      <td>0.00000</td>\n",
       "      <td>...</td>\n",
       "      <td>0.0</td>\n",
       "      <td>0</td>\n",
       "      <td>0</td>\n",
       "      <td>0</td>\n",
       "      <td>0</td>\n",
       "      <td>0</td>\n",
       "      <td>NaN</td>\n",
       "      <td>NaN</td>\n",
       "      <td>NaN</td>\n",
       "      <td>NaN</td>\n",
       "    </tr>\n",
       "    <tr>\n",
       "      <th>...</th>\n",
       "      <td>...</td>\n",
       "      <td>...</td>\n",
       "      <td>...</td>\n",
       "      <td>...</td>\n",
       "      <td>...</td>\n",
       "      <td>...</td>\n",
       "      <td>...</td>\n",
       "      <td>...</td>\n",
       "      <td>...</td>\n",
       "      <td>...</td>\n",
       "      <td>...</td>\n",
       "      <td>...</td>\n",
       "      <td>...</td>\n",
       "      <td>...</td>\n",
       "      <td>...</td>\n",
       "      <td>...</td>\n",
       "      <td>...</td>\n",
       "      <td>...</td>\n",
       "      <td>...</td>\n",
       "      <td>...</td>\n",
       "      <td>...</td>\n",
       "    </tr>\n",
       "    <tr>\n",
       "      <th>Whirlin (3/3)</th>\n",
       "      <td>0</td>\n",
       "      <td>0.0</td>\n",
       "      <td>0.0</td>\n",
       "      <td>0.0</td>\n",
       "      <td>0</td>\n",
       "      <td>0.0</td>\n",
       "      <td>0</td>\n",
       "      <td>0</td>\n",
       "      <td>0.0</td>\n",
       "      <td>0.00000</td>\n",
       "      <td>...</td>\n",
       "      <td>0.0</td>\n",
       "      <td>0</td>\n",
       "      <td>0</td>\n",
       "      <td>0</td>\n",
       "      <td>0</td>\n",
       "      <td>0</td>\n",
       "      <td>NaN</td>\n",
       "      <td>NaN</td>\n",
       "      <td>NaN</td>\n",
       "      <td>NaN</td>\n",
       "    </tr>\n",
       "    <tr>\n",
       "      <th>ZO-1 (1/3)</th>\n",
       "      <td>-1</td>\n",
       "      <td>0.0</td>\n",
       "      <td>0.0</td>\n",
       "      <td>0.0</td>\n",
       "      <td>0</td>\n",
       "      <td>0.0</td>\n",
       "      <td>0</td>\n",
       "      <td>0</td>\n",
       "      <td>0.0</td>\n",
       "      <td>0.00000</td>\n",
       "      <td>...</td>\n",
       "      <td>0.0</td>\n",
       "      <td>0</td>\n",
       "      <td>0</td>\n",
       "      <td>0</td>\n",
       "      <td>0</td>\n",
       "      <td>0</td>\n",
       "      <td>NaN</td>\n",
       "      <td>NaN</td>\n",
       "      <td>NaN</td>\n",
       "      <td>NaN</td>\n",
       "    </tr>\n",
       "    <tr>\n",
       "      <th>ZO-1 (2/3)</th>\n",
       "      <td>0</td>\n",
       "      <td>0.0</td>\n",
       "      <td>0.0</td>\n",
       "      <td>-1.0</td>\n",
       "      <td>0</td>\n",
       "      <td>0.0</td>\n",
       "      <td>0</td>\n",
       "      <td>0</td>\n",
       "      <td>0.0</td>\n",
       "      <td>0.00000</td>\n",
       "      <td>...</td>\n",
       "      <td>0.0</td>\n",
       "      <td>0</td>\n",
       "      <td>0</td>\n",
       "      <td>0</td>\n",
       "      <td>0</td>\n",
       "      <td>0</td>\n",
       "      <td>NaN</td>\n",
       "      <td>NaN</td>\n",
       "      <td>NaN</td>\n",
       "      <td>NaN</td>\n",
       "    </tr>\n",
       "    <tr>\n",
       "      <th>ZO-2 (1/3)</th>\n",
       "      <td>0</td>\n",
       "      <td>0.0</td>\n",
       "      <td>0.0</td>\n",
       "      <td>-1.0</td>\n",
       "      <td>-1</td>\n",
       "      <td>0.0</td>\n",
       "      <td>0</td>\n",
       "      <td>-1</td>\n",
       "      <td>0.0</td>\n",
       "      <td>0.00000</td>\n",
       "      <td>...</td>\n",
       "      <td>0.0</td>\n",
       "      <td>0</td>\n",
       "      <td>0</td>\n",
       "      <td>0</td>\n",
       "      <td>0</td>\n",
       "      <td>0</td>\n",
       "      <td>NaN</td>\n",
       "      <td>NaN</td>\n",
       "      <td>NaN</td>\n",
       "      <td>NaN</td>\n",
       "    </tr>\n",
       "    <tr>\n",
       "      <th>ZO-3 (1/3)</th>\n",
       "      <td>0</td>\n",
       "      <td>0.0</td>\n",
       "      <td>0.0</td>\n",
       "      <td>0.0</td>\n",
       "      <td>0</td>\n",
       "      <td>0.0</td>\n",
       "      <td>0</td>\n",
       "      <td>0</td>\n",
       "      <td>0.0</td>\n",
       "      <td>0.00000</td>\n",
       "      <td>...</td>\n",
       "      <td>0.0</td>\n",
       "      <td>0</td>\n",
       "      <td>0</td>\n",
       "      <td>0</td>\n",
       "      <td>0</td>\n",
       "      <td>0</td>\n",
       "      <td>NaN</td>\n",
       "      <td>NaN</td>\n",
       "      <td>NaN</td>\n",
       "      <td>NaN</td>\n",
       "    </tr>\n",
       "  </tbody>\n",
       "</table>\n",
       "<p>74 rows × 221 columns</p>\n",
       "</div>"
      ],
      "text/plain": [
       "               AcvR1  AcvR2  AcvR2b  AN2  APC  Aquaporin4  ASIC2  AXL  \\\n",
       "Cipp (03/10)       0    0.0    -1.0 -1.0   -1        -1.0     -1   -1   \n",
       "Cipp (05/10)       0    0.0     0.0  0.0    0         0.0      0    0   \n",
       "Cipp (08/10)       0    0.0     0.0  0.0   -1        -1.0      0    0   \n",
       "Cipp (09/10)       0    0.0     0.0 -1.0    0        -1.0      0    0   \n",
       "Cipp (10/10)       0    0.0     0.0  0.0   -1         0.0      0   -1   \n",
       "...              ...    ...     ...  ...  ...         ...    ...  ...   \n",
       "Whirlin (3/3)      0    0.0     0.0  0.0    0         0.0      0    0   \n",
       "ZO-1 (1/3)        -1    0.0     0.0  0.0    0         0.0      0    0   \n",
       "ZO-1 (2/3)         0    0.0     0.0 -1.0    0         0.0      0    0   \n",
       "ZO-2 (1/3)         0    0.0     0.0 -1.0   -1         0.0      0   -1   \n",
       "ZO-3 (1/3)         0    0.0     0.0  0.0    0         0.0      0    0   \n",
       "\n",
       "               Cacna1a      Caspr2  ...  TRPV3  TRPV4  TRPV6  TYRO3  VEGFR2  \\\n",
       "Cipp (03/10)      -1.0  4162.31648  ...   -1.0     -1     -1     -1      -1   \n",
       "Cipp (05/10)       0.0     0.00000  ...    0.0      0     -1      0       0   \n",
       "Cipp (08/10)       0.0     0.00000  ...    0.0      0      0      0       0   \n",
       "Cipp (09/10)       0.0     0.00000  ...    0.0      0      0     -1       0   \n",
       "Cipp (10/10)       0.0     0.00000  ...    0.0      0      0      0       0   \n",
       "...                ...         ...  ...    ...    ...    ...    ...     ...   \n",
       "Whirlin (3/3)      0.0     0.00000  ...    0.0      0      0      0       0   \n",
       "ZO-1 (1/3)         0.0     0.00000  ...    0.0      0      0      0       0   \n",
       "ZO-1 (2/3)         0.0     0.00000  ...    0.0      0      0      0       0   \n",
       "ZO-2 (1/3)         0.0     0.00000  ...    0.0      0      0      0       0   \n",
       "ZO-3 (1/3)         0.0     0.00000  ...    0.0      0      0      0       0   \n",
       "\n",
       "               VEGFR3  Unnamed: 218  Unnamed: 219  Unnamed: 220  Unnamed: 221  \n",
       "Cipp (03/10)       -1           NaN           NaN           NaN           NaN  \n",
       "Cipp (05/10)        0           NaN           NaN           NaN           NaN  \n",
       "Cipp (08/10)        0           NaN           NaN           NaN           NaN  \n",
       "Cipp (09/10)        0           NaN           NaN           NaN           NaN  \n",
       "Cipp (10/10)        0           NaN           NaN           NaN           NaN  \n",
       "...               ...           ...           ...           ...           ...  \n",
       "Whirlin (3/3)       0           NaN           NaN           NaN           NaN  \n",
       "ZO-1 (1/3)          0           NaN           NaN           NaN           NaN  \n",
       "ZO-1 (2/3)          0           NaN           NaN           NaN           NaN  \n",
       "ZO-2 (1/3)          0           NaN           NaN           NaN           NaN  \n",
       "ZO-3 (1/3)          0           NaN           NaN           NaN           NaN  \n",
       "\n",
       "[74 rows x 221 columns]"
      ]
     },
     "execution_count": 9,
     "metadata": {},
     "output_type": "execute_result"
    }
   ],
   "source": [
    "int_matrix"
   ]
  },
  {
   "cell_type": "markdown",
   "metadata": {},
   "source": [
    "Read the sequences of the Peptides"
   ]
  },
  {
   "cell_type": "code",
   "execution_count": 10,
   "metadata": {},
   "outputs": [
    {
     "name": "stdout",
     "output_type": "stream",
     "text": [
      "217\n"
     ]
    }
   ],
   "source": [
    "# ATTENTION: the peptides in peptides.free are not in the same order as in the interaction matrix\n",
    "pep = []\n",
    "with open('./Data/peptides.free') as f:\n",
    "    for line in f:\n",
    "        x = line.split()\n",
    "        pep.append(x)\n",
    "Npep=len(pep)\n",
    "print(Npep)\n",
    "# check that all the peptides are correctly listed in pep\n",
    "for i in range(Npep):\n",
    "    if len(np.extract(int_matrix.columns==pep[i][0],int_matrix.columns))==0 :\n",
    "        print(pep[i])"
   ]
  },
  {
   "cell_type": "code",
   "execution_count": 11,
   "metadata": {},
   "outputs": [
    {
     "name": "stdout",
     "output_type": "stream",
     "text": [
      "PDZ:  Gm1582 (2/3) \n",
      "Peptide:  Cftr with sequence TEEEVQETRL \n",
      "Interaction: 47845.88612\n"
     ]
    }
   ],
   "source": [
    "# Check that the binding is read correctly\n",
    "i=11\n",
    "j=6\n",
    "#print('PDZ: ',PDZ[i],'\\nPeptide: ',pep[j][0],'with sequence',pep[j][1],\n",
    "#      '\\nInteraction:',int_matrix.get_value(PDZ[i],pep[j][0]))\n",
    "print('PDZ: ',PDZ[i],'\\nPeptide: ',pep[j][0],'with sequence',pep[j][1],\n",
    "      '\\nInteraction:',int_matrix.at[PDZ[i],pep[j][0]])    "
   ]
  },
  {
   "cell_type": "code",
   "execution_count": 12,
   "metadata": {},
   "outputs": [
    {
     "name": "stdout",
     "output_type": "stream",
     "text": [
      "(217, 10)\n"
     ]
    }
   ],
   "source": [
    "# Construct the matrix of peptide sequences\n",
    "tmp = []\n",
    "for i in range(Npep):\n",
    "    tmp.append(seq2number(pep[i][1][:]))\n",
    "pep_seq=np.asarray(tmp)\n",
    "print(np.shape(pep_seq))\n",
    "Nbase=np.shape(pep_seq)[1]"
   ]
  },
  {
   "cell_type": "code",
   "execution_count": 13,
   "metadata": {},
   "outputs": [
    {
     "name": "stdout",
     "output_type": "stream",
     "text": [
      "(217, 191)\n"
     ]
    }
   ],
   "source": [
    "#Expand the matrix of peptide sequences in a bynary (Npep,19x10) array X by a one-hot encoding\n",
    "#gauge: last a.a. remove the last symbol\n",
    "#add a last line of all one to have a constant term in dot(X,J)\n",
    "q=20\n",
    "#X=-np.ones((Npep,Nbase*(q-1)+1))    ### USE {-1,1} CONVENTION FOR INPUT\n",
    "X=np.zeros((Npep,Nbase*(q-1)+1))     ### USE {0,1} CONVENTION FOR INPUT\n",
    "for m in range(Npep):\n",
    "    X[m,Nbase*(q-1)]=1\n",
    "    for i in range(Nbase):\n",
    "        if (pep_seq[m,i]!=q):\n",
    "            X[m,i*(q-1)+pep_seq[m,i]-1]=1\n",
    "print(np.shape(X))"
   ]
  },
  {
   "cell_type": "code",
   "execution_count": 14,
   "metadata": {},
   "outputs": [],
   "source": [
    "#Get for a given PDZ the  vector of binding/nonbinding for each peptide Y\n",
    "def getY(iPDZ):\n",
    "    Y = -np.ones(Npep)\n",
    "    for j in range(Npep):\n",
    "        #Kd=int_matrix.get_value(PDZ[iPDZ],pep[j][0])\n",
    "        Kd=int_matrix.at[PDZ[iPDZ],pep[j][0]]\n",
    "        if (Kd>0 and Kd<100000):\n",
    "            Y[j]=1\n",
    "    return Y"
   ]
  },
  {
   "cell_type": "code",
   "execution_count": 15,
   "metadata": {},
   "outputs": [
    {
     "name": "stdout",
     "output_type": "stream",
     "text": [
      "[2, 5, 10, 8, 3, 2, 1, 3, 2, 4, 2, 16, 5, 1, 6, 2, 41, 29, 5, 3, 3, 19, 4, 3, 2, 1, 12, 2, 13, 1, 25, 2, 1, 4, 8, 2, 1, 5, 3, 4, 3, 1, 3, 2, 1, 11, 7, 20, 2, 1, 14, 11, 20, 13, 13, 9, 5, 3, 21, 7, 17, 18, 3, 6, 15, 4, 1, 1, 6, 1, 20, 1, 13, 1]\n"
     ]
    }
   ],
   "source": [
    "# Check how many peptides are binding to each PDZ\n",
    "binding=[]\n",
    "for j in range(NPDZ):\n",
    "    Y=getY(j)\n",
    "    binding.append(sum(Y>0))\n",
    "print(binding)"
   ]
  },
  {
   "cell_type": "markdown",
   "metadata": {},
   "source": [
    "Question 1:  Implement the perceptron learning algorithm , using a large positive value for the classification condition:\n",
    "\n",
    "c = 1000."
   ]
  },
  {
   "cell_type": "markdown",
   "metadata": {},
   "source": [
    "Question 2: Choose  PDZ 11 and split the data in training (containing 150 sequences) and test set (containing 67 sequences)."
   ]
  },
  {
   "cell_type": "markdown",
   "metadata": {},
   "source": [
    "Question 2: Plot the normalised stability parameter as a function of the iteration parameter."
   ]
  },
  {
   "cell_type": "markdown",
   "metadata": {},
   "source": [
    "Question 3: Verify that for the test set the network reproduces the input-output association. Quantify the test-error."
   ]
  },
  {
   "cell_type": "markdown",
   "metadata": {},
   "source": [
    "Question 4: Test the perceptron performances for all the PDZs."
   ]
  },
  {
   "cell_type": "markdown",
   "metadata": {},
   "source": [
    "Question 5 (Bonus 1): Use the Lasso algorithm to fit the training set. Compare the quality of the predictions on the test set with the perceptron result."
   ]
  },
  {
   "cell_type": "markdown",
   "metadata": {},
   "source": [
    "Question 5 (Bonus 2): use the Keras package to train a perceptron, with a sigmoid activation function and a binary cross-entropy loss (in a 0, 1 representation of the binding labels).\n"
   ]
  },
  {
   "cell_type": "code",
   "execution_count": null,
   "metadata": {},
   "outputs": [],
   "source": []
  }
 ],
 "metadata": {
  "anaconda-cloud": {},
  "kernelspec": {
   "display_name": "Python 3",
   "language": "python",
   "name": "python3"
  },
  "language_info": {
   "codemirror_mode": {
    "name": "ipython",
    "version": 3
   },
   "file_extension": ".py",
   "mimetype": "text/x-python",
   "name": "python",
   "nbconvert_exporter": "python",
   "pygments_lexer": "ipython3",
   "version": "3.8.1"
  }
 },
 "nbformat": 4,
 "nbformat_minor": 1
}
