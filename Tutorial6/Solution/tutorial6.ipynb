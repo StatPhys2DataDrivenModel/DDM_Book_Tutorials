{
 "cells": [
  {
   "cell_type": "markdown",
   "metadata": {},
   "source": [
    "# From Statistical Physics to Data-Driven Modelling with Applications to Quantitative Biology\n",
    "\n",
    "Tutorial 6 : Online sparse principal component analysis of neural assemblies.\n",
    "\n",
    "This tutorial is based on the same data set of Tutorial 3,  taken from the work:\n",
    "\n",
    "Replay of rule-learning related neural patterns in the prefrontal cortex during sleep, A. Peyrache, K. Benchenane, M. Khamassi, S. I. Wiener, F. P. Battaglia, Nature Neuroscience, DOI:10.1038/nn.2337 (2009).\n",
    "\n",
    "Solution Notebook SC RM FZ."
   ]
  },
  {
   "cell_type": "code",
   "execution_count": 1,
   "metadata": {},
   "outputs": [],
   "source": [
    "import numpy as np\n",
    "import math\n",
    "import matplotlib.pyplot as plt\n",
    "#%matplotlib inline\n",
    "#plt.rcParams[\"font.family\"] = \"serif\"\n",
    "#plt.rcParams[\"mathtext.fontset\"] = \"dejavuserif\"\n",
    "#plt.rcParams[\"figure.figsize\"] = (10, 8)\n",
    "#plt.rcParams[\"font.size\"] = 26\n",
    "\n",
    "from scipy.sparse import coo_matrix\n",
    "import numpy.matlib\n",
    "from numpy import linalg as LA\n"
   ]
  },
  {
   "cell_type": "markdown",
   "metadata": {},
   "source": [
    "Import data"
   ]
  },
  {
   "cell_type": "code",
   "execution_count": 2,
   "metadata": {},
   "outputs": [],
   "source": [
    "data1=np.loadtxt('../Data/Dati_181014_maze.txt')\n",
    "datatask=data1.astype(int)"
   ]
  },
  {
   "cell_type": "markdown",
   "metadata": {},
   "source": [
    "Raster Plot of the first 10 seconds of the recorded activity"
   ]
  },
  {
   "cell_type": "code",
   "execution_count": 3,
   "metadata": {},
   "outputs": [
    {
     "data": {
      "image/png": "[encoded data removed]",
      "text/plain": [
       "<Figure size 432x288 with 1 Axes>"
      ]
     },
     "metadata": {
      "needs_background": "light"
     },
     "output_type": "display_data"
    }
   ],
   "source": [
    "#Question 1: Raster Plot\n",
    "raster=data1\n",
    "tmin=np.min(raster[:,0])\n",
    "tmax=np.max(raster[:,0])\n",
    "plt.xlim([0,10])\n",
    "plt.ylim([-0.5,37.5])\n",
    "plt.vlines((raster[:,0]-tmin)/10000,raster[:,1]-0.3,raster[:,1]+0.3)\n",
    "plt.xlabel('time (s)')\n",
    "plt.ylabel('Neuron')\n",
    "#plt.title('Raster plot')\n",
    "plt.tight_layout()\n",
    "plt.show()\n"
   ]
  },
  {
   "cell_type": "markdown",
   "metadata": {},
   "source": [
    "# Principal component analysis (off-line learning) from Tutorial 3."
   ]
  },
  {
   "cell_type": "code",
   "execution_count": 9,
   "metadata": {},
   "outputs": [
    {
     "data": {
      "image/png": "[encoded data removed]",
      "text/plain": [
       "<matplotlib.figure.Figure at 0x137e22710>"
      ]
     },
     "metadata": {},
     "output_type": "display_data"
    },
    {
     "name": "stdout",
     "output_type": "stream",
     "text": [
      "Number of eigenvalues > lp:  6\n"
     ]
    }
   ],
   "source": [
    "#Define Pearson matrix\n",
    "\n",
    "#Pearson matrix\n",
    "def Zscore(data):\n",
    "    #time bin (in units of 0.1ms)\n",
    "    dt=1000\n",
    "    L=np.amax(data[:,1])\n",
    "    Tmin=np.amin(data[:,0])\n",
    "    Tmax=np.amax(data[:,0])\n",
    "    T=Tmax-Tmin\n",
    "    M=(T//dt)+1\n",
    "    s=np.zeros((M,L),dtype=np.int)\n",
    "    for k in range(len(data)):\n",
    "        s[(data[k,0]-Tmin)//dt,data[k,1]-1]+=1\n",
    "    #Alternative way, using sparse matrices\n",
    "    #x=(data[:,0]-Tmin)//dt\n",
    "    #y=data[:,1]-1\n",
    "    #z=np.ones(np.size(data,0))\n",
    "    #st=coo_matrix((z,(x,y)),dtype=np.int8,shape=(B,N))    \n",
    "    #s=np.asarray(st)\n",
    "    p=np.mean(s, axis=0, dtype=np.float64)\n",
    "    sigma=np.sqrt(np.var(s, axis=0, dtype=np.float64, ddof=1))\n",
    "    y=(s-p)/sigma\n",
    "    return y.astype(np.float64)\n",
    "\n",
    "#compute Pearson matrix for data and diagonalize it\n",
    "Y=Zscore(datatask)\n",
    "C=np.dot(Y.T,Y)/np.size(Y,0)\n",
    "w, v = LA.eig(C)\n",
    "\n",
    "#plot eigenvalue distribution\n",
    "r=np.size(Y,1)/np.size(Y,0)\n",
    "lp=(1+np.sqrt(r))**2\n",
    "lm=(1-np.sqrt(r))**2\n",
    "x=np.zeros((2,101))\n",
    "for i in range(101):\n",
    "    t=lm+(lp-lm)*i/100\n",
    "    x[0,i]=t\n",
    "    x[1,i]=np.sqrt((lp-t)*(t-lm))/(t*r)/(2*math.pi)\n",
    "plt.hist(w, bins=30, normed=True, facecolor='grey')\n",
    "plt.plot(x[0,:],x[1,:],'black')\n",
    "plt.xlim([0,2.5])\n",
    "plt.ylim([0,6.5])\n",
    "plt.xlabel('$\\lambda$')\n",
    "plt.ylabel('$D(\\lambda)$')\n",
    "plt.title('Spectrum of Pearson correlation matrix')\n",
    "plt.tight_layout()\n",
    "#plt.savefig('PCA-task.pdf')\n",
    "plt.show()\n",
    "\n",
    "\n",
    "print('Number of eigenvalues > lp: ',len(np.where(w>lp)[0]))"
   ]
  },
  {
   "cell_type": "code",
   "execution_count": 10,
   "metadata": {},
   "outputs": [
    {
     "name": "stdout",
     "output_type": "stream",
     "text": [
      "2.1505329296818276 \n",
      " [-0.30575564  0.011962    0.00778311  0.00506386 -0.00252716 -0.01322397\n",
      " -0.09040398 -0.16575109 -0.27394546 -0.16083999 -0.16557683 -0.00855851\n",
      " -0.0309192   0.18770264  0.01711809 -0.10031741  0.13603484 -0.19069276\n",
      "  0.03161871 -0.48857061 -0.42966552 -0.00084054 -0.07465402  0.09245687\n",
      " -0.10297825 -0.29401518  0.22419096 -0.06819083 -0.11757315  0.00927365\n",
      " -0.01872674 -0.09513298  0.01027532  0.05442999 -0.12028375  0.02597055\n",
      " -0.09338114]\n"
     ]
    },
    {
     "data": {
      "image/png": "[encoded data removed]",
      "text/plain": [
       "<matplotlib.figure.Figure at 0x13726a0b8>"
      ]
     },
     "metadata": {},
     "output_type": "display_data"
    },
    {
     "name": "stdout",
     "output_type": "stream",
     "text": [
      "[ 1  9 20 21 26 27]\n"
     ]
    }
   ],
   "source": [
    "# Neurons that contribute the most to the largest eigenvector in the task \n",
    "\n",
    "v0=np.copy(v[:,0])\n",
    "print(w[0],'\\n',v0)\n",
    "plt.plot(np.arange(1,v0.shape[0]+1),v0**2,'ko')\n",
    "plt.plot([0,v0.shape[0]+1],[0.2**2,0.2**2],'black')\n",
    "#plt.title('Squared components of largest eigenvector')\n",
    "plt.xlabel('component index')\n",
    "plt.ylabel('squared component')\n",
    "plt.tight_layout()\n",
    "#plt.savefig('taskcellassembly.pdf')\n",
    "plt.show()\n",
    "print(np.where(abs(v0)>0.2)[0]+1)"
   ]
  },
  {
   "cell_type": "markdown",
   "metadata": {
    "collapsed": true
   },
   "source": [
    " Question 1: write the algotithm for the on-line learning of the Principal Component of the Pearson Correlation Matrix."
   ]
  },
  {
   "cell_type": "code",
   "execution_count": 13,
   "metadata": {},
   "outputs": [],
   "source": [
    "def online_PCA(Y, eta, Npass=1):\n",
    "    L = np.shape(Y)[1]\n",
    "    T = np.shape(Y)[0]\n",
    "    J = np.random.normal(0,1,L)\n",
    "    J = J/LA.norm(J)\n",
    "    for n in range(Npass):\n",
    "        for t in range(T):\n",
    "            z=np.dot(J,Y[t,:])\n",
    "            if (np.isnan(z)):\n",
    "                print(\"Instability at step\",t)\n",
    "                break\n",
    "            J+=eta*z*(Y[t,:]-z*J) \n",
    "    return J/LA.norm(J)"
   ]
  },
  {
   "cell_type": "markdown",
   "metadata": {},
   "source": [
    "Question 2: Plot the scalar product between the principal component and its estimate with the online learning procedure of the previous question as a function of eta. "
   ]
  },
  {
   "cell_type": "code",
   "execution_count": 18,
   "metadata": {},
   "outputs": [
    {
     "name": "stdout",
     "output_type": "stream",
     "text": [
      "Optimal eta 0.00029763514416313193\n"
     ]
    },
    {
     "data": {
      "image/png": "[encoded data removed]",
      "text/plain": [
       "<matplotlib.figure.Figure at 0x13c644048>"
      ]
     },
     "metadata": {},
     "output_type": "display_data"
    }
   ],
   "source": [
    "etav=np.logspace(-5,-3,20)\n",
    "Nav=1\n",
    "Rv=np.zeros(len(etav))\n",
    "for rep in range(Nav):\n",
    "    Rv+=abs(np.dot([online_PCA(Y,eta,1) for eta in etav],v0))\n",
    "Rv/=Nav\n",
    "etastar = etav[np.argmax(Rv)]\n",
    "print('Optimal eta',etastar)\n",
    "plt.semilogx(etav,Rv,'ko')\n",
    "plt.semilogx([etastar, etastar], [0, 1], 'k--')\n",
    "plt.ylim(0,1)\n",
    "plt.title('One initial condition')\n",
    "plt.xlabel('$\\eta$')\n",
    "plt.ylabel('$R=|u\\cdot e|$')\n",
    "#plt.text(1e-5, 0.9, 'B', fontweight='bold')\n",
    "plt.tight_layout()\n",
    "#plt.savefig('Rvseta_1.pdf')\n",
    "plt.show()\n"
   ]
  },
  {
   "cell_type": "markdown",
   "metadata": {},
   "source": [
    "Question 3 verify Instability at large eta eg.eta=0.01."
   ]
  },
  {
   "cell_type": "code",
   "execution_count": 22,
   "metadata": {},
   "outputs": [
    {
     "name": "stdout",
     "output_type": "stream",
     "text": [
      "Instability at step 1186\n"
     ]
    },
    {
     "name": "stderr",
     "output_type": "stream",
     "text": [
      "/Library/Frameworks/Python.framework/Versions/3.6/lib/python3.6/site-packages/ipykernel_launcher.py:12: RuntimeWarning: overflow encountered in multiply\n",
      "  if sys.path[0] == '':\n",
      "/Library/Frameworks/Python.framework/Versions/3.6/lib/python3.6/site-packages/ipykernel_launcher.py:13: RuntimeWarning: invalid value encountered in true_divide\n",
      "  del sys.path[0]\n"
     ]
    },
    {
     "data": {
      "text/plain": [
       "array([nan, nan, nan, nan, nan, nan, nan, nan, nan, nan, nan, nan, nan,\n",
       "       nan, nan, nan, nan, nan, nan, nan, nan, nan, nan, nan, nan, nan,\n",
       "       nan, nan, nan, nan, nan, nan, nan, nan, nan, nan, nan])"
      ]
     },
     "execution_count": 22,
     "metadata": {},
     "output_type": "execute_result"
    }
   ],
   "source": [
    "online_PCA(Y,0.01,1)"
   ]
  },
  {
   "cell_type": "markdown",
   "metadata": {},
   "source": [
    "Question 4: Plot the squared component of the  online principal component   and compare with the ones obtained for the offline principal component for eta=0.0004."
   ]
  },
  {
   "cell_type": "code",
   "execution_count": 28,
   "metadata": {},
   "outputs": [
    {
     "name": "stdout",
     "output_type": "stream",
     "text": [
      "Total time 5.6344\n",
      "Distance to principal component 0.9625798395085534\n"
     ]
    },
    {
     "data": {
      "image/png": "[encoded data removed]",
      "text/plain": [
       "<matplotlib.figure.Figure at 0x137d5e0f0>"
      ]
     },
     "metadata": {},
     "output_type": "display_data"
    },
    {
     "name": "stdout",
     "output_type": "stream",
     "text": [
      "Offline learning: [ 1  9 20 21 26 27]\n",
      "Online learning: [ 1  9 10 14 20 21 26]\n",
      "Both: [ 1  9 20 21 26]\n"
     ]
    }
   ],
   "source": [
    "eta=0.0004\n",
    "Npass=1\n",
    "u0 = online_PCA(Y, eta, Npass)\n",
    "print(\"Total time\",eta*Npass*np.shape(Y)[0])\n",
    "print(\"Distance to principal component\",abs(np.dot(v0,u0)))\n",
    "plt.plot(np.arange(1,v0.shape[0]+1),v0**2,'kx',label=\"offline\")\n",
    "plt.plot(np.arange(1,u0.shape[0]+1),u0**2,'ko',label=\"online\")\n",
    "plt.plot([0,v0.shape[0]+1],[0.2**2,0.2**2],'k--')\n",
    "plt.legend()\n",
    "#plt.title('Squared components of largest eigenvector')\n",
    "plt.xlabel('component index')\n",
    "plt.ylabel('squared component')\n",
    "plt.tight_layout()\n",
    "#plt.savefig('squared_comp.pdf')\n",
    "plt.show()\n",
    "print(\"Offline learning:\",np.where(abs(v0)>0.2)[0]+1)\n",
    "print(\"Online learning:\",np.where(abs(u0)>0.2)[0]+1)\n",
    "print(\"Both:\",np.where((abs(u0)>0.2) & (abs(v0)>0.2))[0]+1)"
   ]
  },
  {
   "cell_type": "markdown",
   "metadata": {},
   "source": [
    "Question 5: Write the code for the Online Sparse Principal Component Analysis."
   ]
  },
  {
   "cell_type": "code",
   "execution_count": 26,
   "metadata": {},
   "outputs": [],
   "source": [
    "def online_sparse_PCA(Y, eta, Jinit, Npass=1, gamma=0):\n",
    "    L = np.shape(Y)[1]\n",
    "    T = np.shape(Y)[0]\n",
    "    J = np.copy(Jinit)\n",
    "    for n in range(Npass):\n",
    "        for t in range(T):\n",
    "            z=np.dot(J,Y[t,:])\n",
    "            if (np.isnan(z)):\n",
    "                print(\"Instability at step\",t)\n",
    "                break\n",
    "            J+=eta*( z*(Y[t,:]-z*J) - gamma*np.sign(J) )\n",
    "    return J/LA.norm(J), LA.norm(J)    "
   ]
  },
  {
   "cell_type": "markdown",
   "metadata": {},
   "source": [
    "Question 6: Discuss the dependence of the norm of the Online Sparse Principal Component  on the regularisation parameter γ, keeping fixed eta=0.0004, and identify the critical value γc at which the norm become zero."
   ]
  },
  {
   "cell_type": "code",
   "execution_count": 29,
   "metadata": {},
   "outputs": [
    {
     "data": {
      "image/png": "[encoded data removed]",
      "text/plain": [
       "<matplotlib.figure.Figure at 0x137281080>"
      ]
     },
     "metadata": {},
     "output_type": "display_data"
    }
   ],
   "source": [
    "eta=0.0004\n",
    "Npass=1\n",
    "gammav=np.linspace(0.0,0.75,50)\n",
    "q=[]\n",
    "r=[]\n",
    "for gamma in gammav:\n",
    "    uapp, qapp = online_sparse_PCA(Y, eta, u0, Npass, gamma)\n",
    "    rapp = abs(np.dot(uapp,v0))\n",
    "    q.append(qapp)\n",
    "    r.append(rapp)\n",
    "plt.plot(gammav,q,'ko')\n",
    "plt.xlabel('$\\gamma$')\n",
    "plt.ylabel('norm of the vector, $Q$')\n",
    "plt.text(0.7, 0.9, 'A', fontweight='bold')\n",
    "plt.legend()\n",
    "plt.tight_layout()\n",
    "#plt.savefig('Qvsgamma.pdf')\n",
    "plt.show()"
   ]
  },
  {
   "cell_type": "markdown",
   "metadata": {},
   "source": [
    "Plot the online sparse PCA for  γ=0.1,0.2,0.3. Compare with the results for online PCA and PCA. "
   ]
  },
  {
   "cell_type": "code",
   "execution_count": 31,
   "metadata": {},
   "outputs": [
    {
     "name": "stdout",
     "output_type": "stream",
     "text": [
      "Total time 5.6344\n"
     ]
    },
    {
     "data": {
      "image/png": "[encoded data removed]",
      "text/plain": [
       "<matplotlib.figure.Figure at 0x137f22588>"
      ]
     },
     "metadata": {},
     "output_type": "display_data"
    },
    {
     "name": "stdout",
     "output_type": "stream",
     "text": [
      "Offline PCA: [ 1  9 20 21 26 27]\n",
      "Online sparse PCA gamma=0.1: [ 1  9 10 20 21 26]\n",
      "Online sparse PCA gamma=0.2: [ 1 20 21 26]\n",
      "Online sparse PCA gamma=0.3: [20 21]\n"
     ]
    }
   ],
   "source": [
    "eta=0.0004\n",
    "Npass=1\n",
    "u0sp1, q = online_sparse_PCA(Y, eta, u0, Npass, 0.1)\n",
    "u0sp2, q = online_sparse_PCA(Y, eta, u0, Npass, 0.2)\n",
    "u0sp3, q = online_sparse_PCA(Y, eta, u0, Npass, 0.3)\n",
    "print(\"Total time\",eta*Npass*np.shape(Y)[0])\n",
    "plt.plot(np.arange(1,v0.shape[0]+1),v0**2,'kx',label=\"offline\")\n",
    "plt.plot(np.arange(1,v0.shape[0]+1),u0sp1**2,'ko',label=\"online $\\gamma=0.1$\")\n",
    "plt.plot(np.arange(1,v0.shape[0]+1),u0sp2**2,'kv',label=\"online $\\gamma=0.2$\")\n",
    "plt.plot(np.arange(1,v0.shape[0]+1),u0sp3**2,'k^',label=\"online $\\gamma=0.3$\")\n",
    "plt.plot([0,v0.shape[0]+1],[0.2**2,0.2**2],'k--')\n",
    "#plt.title('Squared components of largest eigenvector')\n",
    "plt.legend()\n",
    "plt.xlabel('component index')\n",
    "plt.ylabel('squared component')\n",
    "plt.text(35, 0.6, 'B', fontweight='bold')\n",
    "plt.tight_layout()\n",
    "#plt.savefig('uvsgamma.pdf')\n",
    "plt.show()\n",
    "print(\"Offline PCA:\",np.where(abs(v0)>0.2)[0]+1)\n",
    "print(\"Online sparse PCA gamma=0.1:\",np.where(abs(u0sp1)>0.2)[0]+1)\n",
    "print(\"Online sparse PCA gamma=0.2:\",np.where(abs(u0sp2)>0.2)[0]+1)\n",
    "print(\"Online sparse PCA gamma=0.3:\",np.where(abs(u0sp3)>0.2)[0]+1)\n"
   ]
  },
  {
   "cell_type": "markdown",
   "metadata": {},
   "source": [
    "Question 8 (Bonus) repeat the online PCA  learning procedure with a number of passes Npass =25 over the data set and compare with PCA."
   ]
  },
  {
   "cell_type": "markdown",
   "metadata": {},
   "source": [
    "Online PCA with Npass=25"
   ]
  },
  {
   "cell_type": "code",
   "execution_count": 37,
   "metadata": {},
   "outputs": [
    {
     "name": "stdout",
     "output_type": "stream",
     "text": [
      "Total time 14.086\n",
      "Distance to principal component 0.999122039420215\n"
     ]
    },
    {
     "data": {
      "image/png": "[encoded data removed]",
      "text/plain": [
       "<matplotlib.figure.Figure at 0x136b94a90>"
      ]
     },
     "metadata": {},
     "output_type": "display_data"
    },
    {
     "name": "stdout",
     "output_type": "stream",
     "text": [
      "Offline learning: [ 1  9 20 21 26 27]\n",
      "Online learning: [ 1  9 20 21 26 27]\n",
      "Both: [ 1  9 20 21 26 27]\n"
     ]
    }
   ],
   "source": [
    "eta=0.00004\n",
    "Npass=25\n",
    "ustst = online_PCA(Y, eta, Npass)\n",
    "print(\"Total time\",eta*Npass*np.shape(Y)[0])\n",
    "print(\"Distance to principal component\",abs(np.dot(v0,ustst)))\n",
    "plt.plot(np.arange(1,v0.shape[0]+1),v0**2,'kx',label=\"offline\")\n",
    "plt.plot(np.arange(1,ustst.shape[0]+1),ustst**2,'ko',label=\"online\")\n",
    "plt.plot([0,v0.shape[0]+1],[0.2**2,0.2**2],'k--')\n",
    "plt.legend()\n",
    "#plt.title('Squared components of largest eigenvector')\n",
    "plt.xlabel('component index')\n",
    "plt.ylabel('squared component')\n",
    "plt.tight_layout()\n",
    "#plt.savefig('bonus_squared_comp.pdf')\n",
    "plt.show()\n",
    "print(\"Offline learning:\",np.where(abs(v0)>0.2)[0]+1)\n",
    "print(\"Online learning:\",np.where(abs(ustst)>0.2)[0]+1)\n",
    "print(\"Both:\",np.where((abs(ustst)>0.2) & (abs(v0)>0.2))[0]+1)"
   ]
  },
  {
   "cell_type": "markdown",
   "metadata": {},
   "source": [
    "Online Sparse PCA with Npass=25"
   ]
  },
  {
   "cell_type": "code",
   "execution_count": 36,
   "metadata": {},
   "outputs": [
    {
     "data": {
      "image/png": "[encoded data removed]",
      "text/plain": [
       "<matplotlib.figure.Figure at 0x1395566d8>"
      ]
     },
     "metadata": {},
     "output_type": "display_data"
    }
   ],
   "source": [
    "gammav=np.linspace(0.0,0.5,25)\n",
    "q=[]\n",
    "r=[]\n",
    "for gamma in gammav:\n",
    "    uapp, qapp = online_sparse_PCA(Y, eta, ustst, Npass, gamma)\n",
    "    rapp = abs(np.dot(uapp,v0))\n",
    "    q.append(qapp)\n",
    "    r.append(rapp)\n",
    "plt.plot(gammav,q,'ko')\n",
    "plt.xlabel('$\\gamma$')\n",
    "plt.ylabel('norm of the vector, $Q$')\n",
    "plt.text(0.47, 0.9, 'A', fontweight='bold')\n",
    "plt.tight_layout()\n",
    "#plt.savefig('bonus_Qvsgamma.pdf')\n",
    "plt.legend()\n",
    "plt.show()"
   ]
  },
  {
   "cell_type": "code",
   "execution_count": 38,
   "metadata": {},
   "outputs": [
    {
     "name": "stdout",
     "output_type": "stream",
     "text": [
      "Total time 14.086\n"
     ]
    },
    {
     "data": {
      "image/png": "[encoded data removed]",
      "text/plain": [
       "<matplotlib.figure.Figure at 0x13956bc18>"
      ]
     },
     "metadata": {},
     "output_type": "display_data"
    },
    {
     "name": "stdout",
     "output_type": "stream",
     "text": [
      "Offline PCA: [ 1  9 20 21 26 27]\n",
      "Online sparse PCA gamma=0.1: [ 1  9 20 21 26]\n",
      "Online sparse PCA gamma=0.2: [ 1 20 21 26]\n",
      "Online sparse PCA gamma=0.3: [20 21]\n"
     ]
    }
   ],
   "source": [
    "u1sp1, q = online_sparse_PCA(Y, eta, ustst, Npass, 0.1)\n",
    "u1sp2, q = online_sparse_PCA(Y, eta, ustst, Npass, 0.2)\n",
    "u1sp3, q = online_sparse_PCA(Y, eta, ustst, Npass, 0.3)\n",
    "print(\"Total time\",eta*Npass*np.shape(Y)[0])\n",
    "plt.plot(np.arange(1,v0.shape[0]+1),v0**2,'kx',label=\"offline PCA\")\n",
    "plt.plot(np.arange(1,v0.shape[0]+1),u1sp1**2,'ko',label=\"online $\\gamma=0.1$\")\n",
    "plt.plot(np.arange(1,v0.shape[0]+1),u1sp2**2,'kv',label=\"online $\\gamma=0.2$\")\n",
    "plt.plot(np.arange(1,v0.shape[0]+1),u1sp3**2,'k^',label=\"online $\\gamma=0.3$\")\n",
    "plt.plot([0,v0.shape[0]+1],[0.2**2,0.2**2],'k--')\n",
    "#plt.title('Squared components of largest eigenvector')\n",
    "plt.legend()\n",
    "plt.xlabel('component index')\n",
    "plt.ylabel('squared component')\n",
    "plt.text(35, 0.47, 'B', fontweight='bold')\n",
    "plt.tight_layout()\n",
    "#plt.savefig('bonus_uvsgamma.pdf')\n",
    "plt.show()\n",
    "print(\"Offline PCA:\",np.where(abs(v0)>0.2)[0]+1)\n",
    "print(\"Online sparse PCA gamma=0.1:\",np.where(abs(u1sp1)>0.2)[0]+1)\n",
    "print(\"Online sparse PCA gamma=0.2:\",np.where(abs(u1sp2)>0.2)[0]+1)\n",
    "print(\"Online sparse PCA gamma=0.3:\",np.where(abs(u1sp3)>0.2)[0]+1)\n",
    "\n"
   ]
  },
  {
   "cell_type": "code",
   "execution_count": null,
   "metadata": {
    "collapsed": true
   },
   "outputs": [],
   "source": []
  }
 ],
 "metadata": {
  "anaconda-cloud": {},
  "kernelspec": {
   "display_name": "Python 3",
   "language": "python",
   "name": "python3"
  },
  "language_info": {
   "codemirror_mode": {
    "name": "ipython",
    "version": 3
   },
   "file_extension": ".py",
   "mimetype": "text/x-python",
   "name": "python",
   "nbconvert_exporter": "python",
   "pygments_lexer": "ipython3",
   "version": "3.8.1"
  }
 },
 "nbformat": 4,
 "nbformat_minor": 1
}
