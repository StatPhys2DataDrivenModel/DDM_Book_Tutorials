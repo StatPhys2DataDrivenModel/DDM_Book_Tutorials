{
 "cells": [
  {
   "cell_type": "markdown",
   "metadata": {},
   "source": [
    "# Material from tutorial 3"
   ]
  },
  {
   "cell_type": "code",
   "execution_count": null,
   "metadata": {
    "collapsed": true
   },
   "outputs": [],
   "source": [
    "# Tutorial 3, Analysis of task\n",
    "import numpy as np\n",
    "import math\n",
    "import matplotlib.pyplot as plt\n",
    "plt.rcParams[\"figure.figsize\"] = (10, 8)\n",
    "plt.rcParams[\"font.size\"] = 14\n",
    "from scipy.sparse import coo_matrix\n",
    "import numpy.matlib\n",
    "from numpy import linalg as LA\n",
    "\n",
    "#import data\n",
    "data1=np.loadtxt('Dati_181014_maze.txt')\n",
    "datatask=data1.astype(int)"
   ]
  },
  {
   "cell_type": "code",
   "execution_count": null,
   "metadata": {},
   "outputs": [],
   "source": [
    "#Question 1: Raster Plot\n",
    "raster=data1\n",
    "tmin=np.min(raster[:,0])\n",
    "tmax=np.max(raster[:,0])\n",
    "plt.xlim([0,10])\n",
    "plt.ylim([-0.5,37.5])\n",
    "plt.vlines((raster[:,0]-tmin)/10000,raster[:,1]-0.3,raster[:,1]+0.3)\n",
    "plt.xlabel('time (s)')\n",
    "plt.ylabel('Neuron')\n",
    "plt.title('Raster plot')\n",
    "plt.show()\n"
   ]
  },
  {
   "cell_type": "markdown",
   "metadata": {},
   "source": [
    "## Principal component analysis (off-line learning)"
   ]
  },
  {
   "cell_type": "code",
   "execution_count": null,
   "metadata": {},
   "outputs": [],
   "source": [
    "#Question 2: Pearson matrix\n",
    "\n",
    "#Pearson matrix\n",
    "def Zscore(data):\n",
    "    #time bin (in units of 0.1ms)\n",
    "    dt=1000\n",
    "    L=np.amax(data[:,1])\n",
    "    Tmin=np.amin(data[:,0])\n",
    "    Tmax=np.amax(data[:,0])\n",
    "    T=Tmax-Tmin\n",
    "    M=(T//dt)+1\n",
    "    s=np.zeros((M,L),dtype=np.int)\n",
    "    for k in range(len(data)):\n",
    "        s[(data[k,0]-Tmin)//dt,data[k,1]-1]+=1\n",
    "    #Alternative way, using sparse matrices\n",
    "    #x=(data[:,0]-Tmin)//dt\n",
    "    #y=data[:,1]-1\n",
    "    #z=np.ones(np.size(data,0))\n",
    "    #st=coo_matrix((z,(x,y)),dtype=np.int8,shape=(B,N))    \n",
    "    #s=np.asarray(st)\n",
    "    p=np.mean(s, axis=0, dtype=np.float64)\n",
    "    sigma=np.sqrt(np.var(s, axis=0, dtype=np.float64, ddof=1))\n",
    "    y=(s-p)/sigma\n",
    "    return y.astype(np.float64)\n",
    "\n",
    "#compute Pearson matrix for data and diagonalize it\n",
    "Y=Zscore(datatask)\n",
    "C=np.dot(Y.T,Y)/np.size(Y,0)\n",
    "w, v = LA.eig(C)\n",
    "\n",
    "#plot eigenvalue distribution\n",
    "r=np.size(Y,1)/np.size(Y,0)\n",
    "lp=(1+np.sqrt(r))**2\n",
    "lm=(1-np.sqrt(r))**2\n",
    "x=np.zeros((2,101))\n",
    "for i in range(101):\n",
    "    t=lm+(lp-lm)*i/100\n",
    "    x[0,i]=t\n",
    "    x[1,i]=np.sqrt((lp-t)*(t-lm))/(t*r)/(2*math.pi)\n",
    "plt.hist(w, bins=30, normed=True, facecolor='grey')\n",
    "plt.plot(x[0,:],x[1,:],'black')\n",
    "plt.xlim([0,2.5])\n",
    "plt.ylim([0,6.5])\n",
    "plt.xlabel('$\\lambda$')\n",
    "plt.ylabel('$D(\\lambda)$')\n",
    "plt.title('Spectrum of Pearson correlation matrix')\n",
    "plt.savefig('PCA-task.pdf')\n",
    "plt.show()\n",
    "\n",
    "\n",
    "print('Number of eigenvalues > lp: ',len(np.where(w>lp)[0]))"
   ]
  },
  {
   "cell_type": "code",
   "execution_count": null,
   "metadata": {},
   "outputs": [],
   "source": [
    "#Question 4: neurons that contribute the most to the largest eigenvector in the task \n",
    "\n",
    "v0=np.copy(v[:,0])\n",
    "print(w[0],'\\n',v0)\n",
    "plt.plot(np.arange(1,v0.shape[0]+1),v0**2,'ko')\n",
    "plt.plot([0,v0.shape[0]+1],[0.2**2,0.2**2],'black')\n",
    "plt.title('Squared components of largest eigenvector')\n",
    "plt.savefig('taskcellassembly.pdf')\n",
    "plt.show()\n",
    "print(np.where(abs(v0)>0.2)[0]+1)"
   ]
  },
  {
   "cell_type": "code",
   "execution_count": null,
   "metadata": {
    "collapsed": true
   },
   "outputs": [],
   "source": []
  }
 ],
 "metadata": {
  "anaconda-cloud": {},
  "kernelspec": {
   "display_name": "Python 3",
   "language": "python",
   "name": "python3"
  },
  "language_info": {
   "codemirror_mode": {
    "name": "ipython",
    "version": 3
   },
   "file_extension": ".py",
   "mimetype": "text/x-python",
   "name": "python",
   "nbconvert_exporter": "python",
   "pygments_lexer": "ipython3",
   "version": "3.6.3"
  }
 },
 "nbformat": 4,
 "nbformat_minor": 1
}
