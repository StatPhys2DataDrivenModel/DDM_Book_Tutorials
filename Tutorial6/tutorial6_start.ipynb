{
 "cells": [
  {
   "cell_type": "markdown",
   "metadata": {},
   "source": [
    "# From Statistical Physics to Data-Driven Modelling with Applications to Quantitative Biology\n",
    "\n",
    "Tutorial 6 : Online sparse principal component analysis of neural assemblies.\n",
    "\n",
    "This tutorial is based on the same data set of Tutorial 3,  taken from the work:\n",
    "\n",
    "Replay of rule-learning related neural patterns in the prefrontal cortex during sleep, A. Peyrache, K. Benchenane, M. Khamassi, S. I. Wiener, F. P. Battaglia, Nature Neuroscience, DOI:10.1038/nn.2337 (2009).\n",
    "\n",
    "Starting Notebook SC RM FZ."
   ]
  },
  {
   "cell_type": "code",
   "execution_count": 1,
   "metadata": {},
   "outputs": [],
   "source": [
    "\n",
    "import numpy as np\n",
    "import math\n",
    "import matplotlib.pyplot as plt\n",
    "#%matplotlib inline\n",
    "#plt.rcParams[\"font.family\"] = \"serif\"\n",
    "#plt.rcParams[\"mathtext.fontset\"] = \"dejavuserif\"\n",
    "#plt.rcParams[\"figure.figsize\"] = (10, 8)\n",
    "#plt.rcParams[\"font.size\"] = 26\n",
    "\n",
    "from scipy.sparse import coo_matrix\n",
    "import numpy.matlib\n",
    "from numpy import linalg as LA\n"
   ]
  },
  {
   "cell_type": "markdown",
   "metadata": {},
   "source": [
    "Import data"
   ]
  },
  {
   "cell_type": "code",
   "execution_count": 2,
   "metadata": {},
   "outputs": [],
   "source": [
    "data1=np.loadtxt('./Data/Dati_181014_maze.txt')\n",
    "datatask=data1.astype(int)"
   ]
  },
  {
   "cell_type": "markdown",
   "metadata": {},
   "source": [
    "Raster Plot of the first 10 seconds of the recorded activity"
   ]
  },
  {
   "cell_type": "code",
   "execution_count": 3,
   "metadata": {},
   "outputs": [
    {
     "data": {
      "image/png": "[encoded data removed]",
      "text/plain": [
       "<Figure size 432x288 with 1 Axes>"
      ]
     },
     "metadata": {
      "needs_background": "light"
     },
     "output_type": "display_data"
    }
   ],
   "source": [
    "#Question 1: Raster Plot\n",
    "raster=data1\n",
    "tmin=np.min(raster[:,0])\n",
    "tmax=np.max(raster[:,0])\n",
    "plt.xlim([0,10])\n",
    "plt.ylim([-0.5,37.5])\n",
    "plt.vlines((raster[:,0]-tmin)/10000,raster[:,1]-0.3,raster[:,1]+0.3)\n",
    "plt.xlabel('time (s)')\n",
    "plt.ylabel('Neuron')\n",
    "#plt.title('Raster plot')\n",
    "plt.tight_layout()\n",
    "plt.show()\n"
   ]
  },
  {
   "cell_type": "markdown",
   "metadata": {},
   "source": [
    "# Principal component analysis (off-line learning) taken from Tutorial 3."
   ]
  },
  {
   "cell_type": "code",
   "execution_count": 9,
   "metadata": {},
   "outputs": [
    {
     "data": {
      "image/png": "[encoded data removed]",
      "text/plain": [
       "<matplotlib.figure.Figure at 0x137e22710>"
      ]
     },
     "metadata": {},
     "output_type": "display_data"
    },
    {
     "name": "stdout",
     "output_type": "stream",
     "text": [
      "Number of eigenvalues > lp:  6\n"
     ]
    }
   ],
   "source": [
    "#Define Pearson matrix\n",
    "\n",
    "#Pearson matrix\n",
    "def Zscore(data):\n",
    "    #time bin (in units of 0.1ms)\n",
    "    dt=1000\n",
    "    L=np.amax(data[:,1])\n",
    "    Tmin=np.amin(data[:,0])\n",
    "    Tmax=np.amax(data[:,0])\n",
    "    T=Tmax-Tmin\n",
    "    M=(T//dt)+1\n",
    "    s=np.zeros((M,L),dtype=np.int)\n",
    "    for k in range(len(data)):\n",
    "        s[(data[k,0]-Tmin)//dt,data[k,1]-1]+=1\n",
    "    #Alternative way, using sparse matrices\n",
    "    #x=(data[:,0]-Tmin)//dt\n",
    "    #y=data[:,1]-1\n",
    "    #z=np.ones(np.size(data,0))\n",
    "    #st=coo_matrix((z,(x,y)),dtype=np.int8,shape=(B,N))    \n",
    "    #s=np.asarray(st)\n",
    "    p=np.mean(s, axis=0, dtype=np.float64)\n",
    "    sigma=np.sqrt(np.var(s, axis=0, dtype=np.float64, ddof=1))\n",
    "    y=(s-p)/sigma\n",
    "    return y.astype(np.float64)\n",
    "\n",
    "#compute Pearson matrix for data and diagonalize it\n",
    "Y=Zscore(datatask)\n",
    "C=np.dot(Y.T,Y)/np.size(Y,0)\n",
    "w, v = LA.eig(C)\n",
    "\n",
    "#plot eigenvalue distribution\n",
    "r=np.size(Y,1)/np.size(Y,0)\n",
    "lp=(1+np.sqrt(r))**2\n",
    "lm=(1-np.sqrt(r))**2\n",
    "x=np.zeros((2,101))\n",
    "for i in range(101):\n",
    "    t=lm+(lp-lm)*i/100\n",
    "    x[0,i]=t\n",
    "    x[1,i]=np.sqrt((lp-t)*(t-lm))/(t*r)/(2*math.pi)\n",
    "plt.hist(w, bins=30, normed=True, facecolor='grey')\n",
    "plt.plot(x[0,:],x[1,:],'black')\n",
    "plt.xlim([0,2.5])\n",
    "plt.ylim([0,6.5])\n",
    "plt.xlabel('$\\lambda$')\n",
    "plt.ylabel('$D(\\lambda)$')\n",
    "plt.title('Spectrum of Pearson correlation matrix')\n",
    "plt.tight_layout()\n",
    "#plt.savefig('PCA-task.pdf')\n",
    "plt.show()\n",
    "\n",
    "\n",
    "print('Number of eigenvalues > lp: ',len(np.where(w>lp)[0]))"
   ]
  },
  {
   "cell_type": "code",
   "execution_count": 10,
   "metadata": {},
   "outputs": [
    {
     "name": "stdout",
     "output_type": "stream",
     "text": [
      "2.1505329296818276 \n",
      " [-0.30575564  0.011962    0.00778311  0.00506386 -0.00252716 -0.01322397\n",
      " -0.09040398 -0.16575109 -0.27394546 -0.16083999 -0.16557683 -0.00855851\n",
      " -0.0309192   0.18770264  0.01711809 -0.10031741  0.13603484 -0.19069276\n",
      "  0.03161871 -0.48857061 -0.42966552 -0.00084054 -0.07465402  0.09245687\n",
      " -0.10297825 -0.29401518  0.22419096 -0.06819083 -0.11757315  0.00927365\n",
      " -0.01872674 -0.09513298  0.01027532  0.05442999 -0.12028375  0.02597055\n",
      " -0.09338114]\n"
     ]
    },
    {
     "data": {
      "image/png": "[encoded data removed]",
      "text/plain": [
       "<matplotlib.figure.Figure at 0x13726a0b8>"
      ]
     },
     "metadata": {},
     "output_type": "display_data"
    },
    {
     "name": "stdout",
     "output_type": "stream",
     "text": [
      "[ 1  9 20 21 26 27]\n"
     ]
    }
   ],
   "source": [
    "# Neurons that contribute the most to the largest eigenvector in the task \n",
    "\n",
    "v0=np.copy(v[:,0])\n",
    "print(w[0],'\\n',v0)\n",
    "plt.plot(np.arange(1,v0.shape[0]+1),v0**2,'ko')\n",
    "plt.plot([0,v0.shape[0]+1],[0.2**2,0.2**2],'black')\n",
    "#plt.title('Squared components of largest eigenvector')\n",
    "plt.xlabel('component index')\n",
    "plt.ylabel('squared component')\n",
    "plt.tight_layout()\n",
    "#plt.savefig('taskcellassembly.pdf')\n",
    "plt.show()\n",
    "print(np.where(abs(v0)>0.2)[0]+1)"
   ]
  },
  {
   "cell_type": "markdown",
   "metadata": {
    "collapsed": true
   },
   "source": [
    " Question 1: Write the algotithm for the on-line learning of the Principal Component of the Pearson Correlation Matrix."
   ]
  },
  {
   "cell_type": "markdown",
   "metadata": {},
   "source": [
    "Question 2: Plot the scalar product between the principal component and its estimate with the online learning procedure of the previous question as a function of eta. "
   ]
  },
  {
   "cell_type": "markdown",
   "metadata": {},
   "source": [
    "Question 3: verify Instability at large eta eg.eta=0.01."
   ]
  },
  {
   "cell_type": "markdown",
   "metadata": {},
   "source": [
    "Question 4: Plot the squared component of the  online principal component   and compare with the ones obtained for the offline principal component for eta=0.0004."
   ]
  },
  {
   "cell_type": "markdown",
   "metadata": {},
   "source": [
    "Question 5: Write the code for the Online Sparse Principal Component Analysis."
   ]
  },
  {
   "cell_type": "markdown",
   "metadata": {},
   "source": [
    "Question 6: Discuss the dependence of the norm of the Online Sparse Principal Component  on the regularisation parameter γ, keeping fixed eta=0.0004, and identify the critical value γc at which the norm become zero>"
   ]
  },
  {
   "cell_type": "markdown",
   "metadata": {},
   "source": [
    "Plot the online sparse PCA for  γ=0.1,0.2,0.3. Compare with the results for online PCA and PCA. "
   ]
  },
  {
   "cell_type": "markdown",
   "metadata": {},
   "source": [
    "Question 8 (Bonus): repeat the online PCA  learning procedure with a number of passes Npass =25  over the data set and compare with PCA."
   ]
  },
  {
   "cell_type": "markdown",
   "metadata": {},
   "source": [
    "Online PCA with Npass=25"
   ]
  },
  {
   "cell_type": "markdown",
   "metadata": {},
   "source": [
    "Online Sparse PCA with Npass=25"
   ]
  },
  {
   "cell_type": "code",
   "execution_count": null,
   "metadata": {
    "collapsed": true
   },
   "outputs": [],
   "source": []
  }
 ],
 "metadata": {
  "anaconda-cloud": {},
  "kernelspec": {
   "display_name": "Python 3",
   "language": "python",
   "name": "python3"
  },
  "language_info": {
   "codemirror_mode": {
    "name": "ipython",
    "version": 3
   },
   "file_extension": ".py",
   "mimetype": "text/x-python",
   "name": "python",
   "nbconvert_exporter": "python",
   "pygments_lexer": "ipython3",
   "version": "3.8.1"
  }
 },
 "nbformat": 4,
 "nbformat_minor": 1
}
