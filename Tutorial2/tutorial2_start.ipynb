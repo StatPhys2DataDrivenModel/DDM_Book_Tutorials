{
 "cells": [
  {
   "cell_type": "markdown",
   "metadata": {},
   "source": [
    "# From Statistical Physics to Data-Driven Modelling\n",
    "     with Applications to Quantitative Biology\n",
    "Tutorial 2: Entropy and information in neural spike trains. \n",
    "\n",
    "This tutorial is based on the works: \n",
    "\n",
    "-R. R. de Ruyter van Steveninck, G. D. Lewen, S. P. Strong, R. Koberle, W. Bialek Reproducibility and Variability in Neural Spike Trains, Science 275, 1805-1808 (1997)\n",
    "\n",
    "-K. Koch, J. McLean, M. Berry, P. Sterling, V. Balasubramanian, M. A. Efficiency of Information Transmission by Retinal Ganglion Cells Current Biology, 14, 15231530, (2004).\n",
    "\n",
    "Starting Notebook SC RM FZ. "
   ]
  },
  {
   "cell_type": "code",
   "execution_count": 2,
   "metadata": {},
   "outputs": [],
   "source": [
    "import numpy as np\n",
    "import math\n",
    "import matplotlib.pyplot as plt\n",
    "from scipy.sparse import coo_matrix\n",
    "import numpy.matlib\n",
    "#matplotlib inline\n",
    "#plt.rcParams[\"font.family\"] = \"serif\"\n",
    "#plt.rcParams[\"mathtext.fontset\"] = \"dejavuserif\"\n",
    "#plt.rcParams[\"figure.figsize\"] = (10, 8)\n",
    "#plt.rcParams[\"font.size\"] = 26"
   ]
  },
  {
   "cell_type": "code",
   "execution_count": 5,
   "metadata": {},
   "outputs": [],
   "source": [
    "#import data\n",
    "data=np.loadtxt('./Data/dati2-berry.dat')\n",
    "\n",
    "#parameters\n",
    "#time bin =10 ms\n",
    "dt=0.01\n",
    "#length (in seconds) of a word\n",
    "ls=0.1\n",
    "#length (in bits) of a word\n",
    "l=int(ls/dt)\n",
    "#length (in seconds) of a repetition\n",
    "T=26.5\n",
    "#number of bins for each repetition of duration 26.5 s\n",
    "M=int(T/dt)\n",
    "#number of repetition of the input\n",
    "Nr=120\n",
    "#number of repetitions used in the data analysis\n",
    "#verify for Nrp=1, the noise entropy should be zero\n",
    "Nrp=120\n",
    "#Number of words\n",
    "Nwt=np.power(2,l)\n",
    "\n",
    "\n",
    "#Find lines in the data delimiting neurons spike trains + add last line\n",
    "Ndata=np.size(data);\n",
    "Ncells=40;\n",
    "tc=(np.zeros(Ncells+1)).astype(int)\n",
    "tc[0:Ncells]=np.where(data == 4000)[0][:]\n",
    "tc[Ncells]=Ndata"
   ]
  },
  {
   "cell_type": "code",
   "execution_count": 6,
   "metadata": {},
   "outputs": [
    {
     "data": {
      "image/png": "[encoded data removed]",
      "text/plain": [
       "<matplotlib.figure.Figure at 0x111d98710>"
      ]
     },
     "metadata": {},
     "output_type": "display_data"
    }
   ],
   "source": [
    "#Question 0: Raster Plot\n",
    "data0=data[tc[0]+2:tc[1]]\n",
    "x=data0%T\n",
    "y=data0//T\n",
    "plt.xlim([0,10])\n",
    "plt.ylim([-0.5,10.5])\n",
    "plt.vlines(x,y-0.3,y+0.3)\n",
    "plt.xlabel('time (s)')\n",
    "plt.ylabel('stimulus repetition number')\n",
    "#plt.title('Raster plot for cell 1 (only 10 repetitions and 10 sec are shown)')\n",
    "plt.tight_layout()\n",
    "plt.savefig('raster_dt001cell1.pdf')\n",
    "plt.show()\n"
   ]
  },
  {
   "cell_type": "code",
   "execution_count": 7,
   "metadata": {},
   "outputs": [],
   "source": [
    "#Function that converts the spikes for a single neuron into a matrix\n",
    "#The matrix contains the number of spikes in a bin of size dt for each repetition (line)\n",
    "def data_to_table (i):\n",
    "    datai=data[tc[i]+2:tc[i+1]]\n",
    "    # build the spiking matrix for the neuron i, using sparse matrix\n",
    "    tt=datai%T\n",
    "    #time bin of the spike (0:M-1)\n",
    "    y=np.floor(tt/dt)\n",
    "    #interval number (0:119)\n",
    "    x=np.floor(datai//T)\n",
    "    # conversion to a sparse matrix \n",
    "    z=np.ones(np.size(datai))\n",
    "    s=coo_matrix((z,(x,y)),dtype=np.int8,shape=(Nr,M))\n",
    "    sreal=s.toarray()\n",
    "    return sreal\n",
    "\n",
    "#Function that performs the conversion from a string of bits to an integer\n",
    "#note that some elements of word can be >1; the first line makes the conversion to 0,1\n",
    "def toint (word):\n",
    "    y=(word[:]>0).astype(int)\n",
    "    bw=[str(t) for t in y]\n",
    "    bw2=''.join(bw)\n",
    "    return int(bw2,2)  \n",
    "\n"
   ]
  },
  {
   "cell_type": "markdown",
   "metadata": {
    "collapsed": true
   },
   "source": [
    "Question 1: Entropy as a function of dt of a Poisson process of frequency f=4 Hz."
   ]
  },
  {
   "cell_type": "markdown",
   "metadata": {},
   "source": [
    "Question 2: Calculation of the total entropy Stotal,the noise entropy Snoise, the information about the stimuli I and frequency for each neuron.\n",
    "Plot of Snoise, Stotal and I for the 40 neurons."
   ]
  },
  {
   "cell_type": "markdown",
   "metadata": {},
   "source": [
    "Question 3: Compute I as a function of  the number of repetitions of the stimulus and of the duration of the word for the first neuron.\n"
   ]
  },
  {
   "cell_type": "markdown",
   "metadata": {},
   "source": [
    "Question 4 (Bonus): Plot the entropy as a function of the time (bin number) and compare with the frequency.  "
   ]
  },
  {
   "cell_type": "code",
   "execution_count": null,
   "metadata": {},
   "outputs": [],
   "source": []
  }
 ],
 "metadata": {
  "anaconda-cloud": {},
  "kernelspec": {
   "display_name": "Python 3",
   "language": "python",
   "name": "python3"
  },
  "language_info": {
   "codemirror_mode": {
    "name": "ipython",
    "version": 3
   },
   "file_extension": ".py",
   "mimetype": "text/x-python",
   "name": "python",
   "nbconvert_exporter": "python",
   "pygments_lexer": "ipython3",
   "version": "3.8.1"
  }
 },
 "nbformat": 4,
 "nbformat_minor": 1
}
