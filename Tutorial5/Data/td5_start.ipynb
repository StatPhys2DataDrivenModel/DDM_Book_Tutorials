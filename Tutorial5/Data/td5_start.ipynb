{
 "cells": [
  {
   "cell_type": "code",
   "execution_count": null,
   "metadata": {
    "collapsed": true
   },
   "outputs": [],
   "source": [
    "#Information, Inference Networks: Tutorial 5.  S.C., R.M., F.Z.\n",
    "#Analysis of Protein Sequence Data to infer protein structure \n",
    "#Contact Prediction from the Multiple Sequence Alignments of the Trypsin Hynibitor Protein (PF00014)\n",
    "import numpy as np\n",
    "import math\n",
    "import matplotlib.pyplot as plt\n",
    "from scipy.sparse import coo_matrix\n",
    "import numpy.matlib\n",
    "import numpy.linalg as LA\n",
    "from numpy.linalg import inv\n",
    "np.set_printoptions(threshold=np.inf)"
   ]
  },
  {
   "cell_type": "code",
   "execution_count": null,
   "metadata": {
    "collapsed": true
   },
   "outputs": [],
   "source": [
    "def letter2number(a): \n",
    "    #to convert the a.a. letters into integer numbers from 0 to 20\n",
    "    switcher = {\n",
    "        '-': 0,\n",
    "        'A': 1,\n",
    "        'C': 2,\n",
    "        'D':3,\n",
    "        'E':4,\n",
    "        'F':5,\n",
    "        'G':6,\n",
    "        'H':7,\n",
    "        'I':8,\n",
    "        'K':9,\n",
    "        'L':10,\n",
    "        'M':11,\n",
    "        'N':12,\n",
    "        'P':13,\n",
    "        'Q':14,\n",
    "        'R':15,\n",
    "        'S':16,\n",
    "        'T':17,\n",
    "        'V':18,\n",
    "        'W':19,\n",
    "        'Y':20,   \n",
    "    }\n",
    "    #return switcher.get(a, \"nothing\")\n",
    "    return switcher.get(a,0)"
   ]
  },
  {
   "cell_type": "code",
   "execution_count": null,
   "metadata": {
    "collapsed": true
   },
   "outputs": [],
   "source": [
    "# Open the file with read o permit\n",
    "data=open('seqPF14.txt', 'r')\n",
    "# use readlines to read all lines in the file\n",
    "# The variable \"seqs\" is a list containing all lines\n",
    "seqs = data.readlines()\n",
    "# close the file after reading the lines.\n",
    "data.close()"
   ]
  },
  {
   "cell_type": "code",
   "execution_count": null,
   "metadata": {
    "collapsed": true
   },
   "outputs": [],
   "source": [
    "M=np.size(seqs)\n",
    "L=len(seqs[0])-1\n",
    "Np=int(L*(L-1)/2)\n",
    "align=np.zeros((M,L)).astype(int)\n",
    "#Convert in a number\n",
    "for m in range (M):\n",
    "    for i in range (L):\n",
    "        align[m,i]=letter2number(seqs[m][i])"
   ]
  },
  {
   "cell_type": "code",
   "execution_count": null,
   "metadata": {
    "collapsed": true
   },
   "outputs": [],
   "source": [
    "#Expand the alignment in a bynary (M,20xL) array\n",
    "#gauge last a.a. remove the last symbol\n",
    "q=20\n",
    "msa20=np.zeros((M,L*q)).astype(int)\n",
    "for i in range(L):\n",
    "    for a in range (q):\n",
    "        msa20[:,i*q+a]=(align[:,i]==a)"
   ]
  },
  {
   "cell_type": "code",
   "execution_count": null,
   "metadata": {
    "collapsed": true
   },
   "outputs": [],
   "source": [
    "# Couplings in zero sum gauge and Frobenius Norm\n",
    "def Frobenius(J):\n",
    "    F=np.zeros((L,L))\n",
    "    Fv=np.zeros(Np)\n",
    "    ind=np.zeros((Np,2)).astype(int)\n",
    "    indv=np.zeros((L,L)).astype(int)\n",
    "    l=0\n",
    "    for i in range (L):\n",
    "        for j in range(i+1,L):\n",
    "            #matrix  21x21 including also the gauge symbol\n",
    "            jinf2=np.zeros((q+1,q+1))\n",
    "            jinf2[0:q,0:q]=J[i*q:(i+1)*q,j*q:(j+1)*q]\n",
    "            #zero-sum matrix\n",
    "            #J_norm=np.transpose(np.transpose(jinf2 - np.mean(jinf2,0))\n",
    "            #                     - np.mean(jinf2,1)) + np.mean(jinf2)\n",
    "            J_norm=jinf2 - np.mean(jinf2,0)\n",
    "            J_norm=J_norm - np.mean(J_norm,1,keepdims=True)\n",
    "            #Frobenius norm\n",
    "            F[i,j] = LA.norm(J_norm)\n",
    "            F[j,i]=F[i,j]\n",
    "            ind[l,0]=i\n",
    "            ind[l,1]=j\n",
    "            Fv[l]=F[i,j]\n",
    "            indv[i,j]=l\n",
    "            l=l+1        \n",
    "    return [Fv,indv,F,ind]"
   ]
  },
  {
   "cell_type": "code",
   "execution_count": null,
   "metadata": {
    "collapsed": true
   },
   "outputs": [],
   "source": [
    "def Apc(F):\n",
    "    #Average Product Correction which improves contact Predictions\n",
    "    Fapc=np.zeros(Np)\n",
    "    avcoupl1=np.sum(F,1)/L\n",
    "    sumj=np.sum(avcoupl1)/L\n",
    "    l=0\n",
    "    for i in range (L):\n",
    "        for j in range (i+1,L):\n",
    "            Fapc[l]=F[i,j]-avcoupl1[i]*avcoupl1[j]/sumj\n",
    "            l=l+1         \n",
    "    return Fapc           "
   ]
  },
  {
   "cell_type": "code",
   "execution_count": null,
   "metadata": {
    "collapsed": true
   },
   "outputs": [],
   "source": [
    "def ppv(Finput,indv,ind):\n",
    "    #Sort Finput in reverse order \n",
    "    Fsort=np.sort(Finput)[::-1]\n",
    "    Fsort_index=np.argsort(Finput)[::-1]\n",
    "\n",
    "    #Read structural Distances\n",
    "    backmap_distances=np.loadtxt('Data/backmap_distances_e_PF00014.txt')\n",
    "    distv=np.ones(Np)*50;\n",
    "    lb=np.size(backmap_distances,0)\n",
    "    dist=np.zeros((L,L))\n",
    "    for l in range (lb):\n",
    "        i=int(backmap_distances[l,0]-1)\n",
    "        j=int(backmap_distances[l,1]-1)\n",
    "        dist[i,j]=backmap_distances[l,4]\n",
    "        leff=indv[i,j]\n",
    "        distv[leff]=backmap_distances[l,4]\n",
    "\n",
    "    #Positive Predicted Value for all contacts \n",
    "    sux=np.zeros(Np+1)\n",
    "    suxn=np.zeros(Np+1)\n",
    "    dc2=8;\n",
    "    sux[0]=0\n",
    "    for i in range (Np):\n",
    "        if distv[Fsort_index[i]]<dc2:\n",
    "            sux[i+1]=sux[i]+1\n",
    "        else:\n",
    "            sux[i+1]=sux[i]\n",
    "        suxn[i+1]=sux[i+1]/(i+1)\n",
    "\n",
    "    #Positive Predicted Value for contacts distant along the backbone i-j>4\n",
    "    sud=np.zeros(Np+1)\n",
    "    sudn=np.zeros(Np+1)\n",
    "    dc2=8\n",
    "    sud[0]=0\n",
    "    ni=0\n",
    "    for i in range (Np):\n",
    "        if ind[Fsort_index[i],1]-ind[Fsort_index[i],0] >4:\n",
    "            if distv[Fsort_index[i]]<dc2:\n",
    "                        sud[ni+1]=sud[ni]+1\n",
    "            else:\n",
    "                        sud[ni+1]=sud[ni]  \n",
    "            sudn[ni+1]=sud[ni+1]/(ni+1)\n",
    "            ni=ni+1\n",
    "    return [suxn,sudn]\n",
    "    "
   ]
  }
 ],
 "metadata": {
  "anaconda-cloud": {},
  "kernelspec": {
   "display_name": "Python 3",
   "language": "python",
   "name": "python3"
  },
  "language_info": {
   "codemirror_mode": {
    "name": "ipython",
    "version": 3
   },
   "file_extension": ".py",
   "mimetype": "text/x-python",
   "name": "python",
   "nbconvert_exporter": "python",
   "pygments_lexer": "ipython3",
   "version": "3.8.3"
  }
 },
 "nbformat": 4,
 "nbformat_minor": 1
}
