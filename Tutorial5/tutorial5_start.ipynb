{
 "cells": [
  {
   "cell_type": "markdown",
   "metadata": {},
   "source": [
    "# From Statistical Physics to Data-Driven Modelling with Applications to Quantitative Biology\n",
    "Tutorial 5 : Analysis of Protein Sequence Data to infer protein structure. \n",
    "\n",
    "This Tutorial is based on the work:\n",
    "\n",
    "Faruck Morcos, Andrea Pagnani, Bryan Lunt, Arianna Bertolino, Debora S Marks, Chris Sander, Riccardo Zecchina, Jose  Onuchic, Terence Hwa, and Martin Weigt. Direct-coupling analysis of residue coevolution captures native contacts across many protein families. Proceedings of the National Academy of Sciences, 108(49):E1293–E1301, 2011.\n",
    "\n",
    "For a review  of Direct Coupling Analysis see: \n",
    "Simona Cocco, Christoph Feinauer, Matteo Figliuzzi, Remi Monasson, and Martin Weigt. Inverse statistical physics of protein sequences: a key issues review. Reports on Progress in Physics, 81(3):032601, 2018.\n",
    "\n",
    "This tutorial is long but can be split in two parts: Question 9 can be treated in a following tutirial.\n",
    "\n",
    "Starting Notebook SC RM FZ.\n"
   ]
  },
  {
   "cell_type": "code",
   "execution_count": 1,
   "metadata": {},
   "outputs": [],
   "source": [
    "import numpy as np\n",
    "import math\n",
    "import matplotlib.pyplot as plt\n",
    "from scipy.sparse import coo_matrix\n",
    "import numpy.matlib\n",
    "#%matplotlib inline\n",
    "#plt.rcParams[\"font.family\"] = \"serif\"\n",
    "#plt.rcParams[\"mathtext.fontset\"] = \"dejavuserif\"\n",
    "#plt.rcParams[\"figure.figsize\"] = (10, 8)\n",
    "#plt.rcParams[\"font.size\"] = 26\n",
    "\n",
    "import numpy.linalg as LA\n",
    "from numpy.linalg import inv"
   ]
  },
  {
   "cell_type": "markdown",
   "metadata": {},
   "source": [
    "Useful functions for the tutorial."
   ]
  },
  {
   "cell_type": "code",
   "execution_count": 3,
   "metadata": {},
   "outputs": [],
   "source": [
    "# Function to convert the amino acids letters into integer numbers from 0 to 20\n",
    "def letter2number(a): \n",
    "    \n",
    "    switcher = {\n",
    "        '-': 0,\n",
    "        'A': 1,\n",
    "        'C': 2,\n",
    "        'D':3,\n",
    "        'E':4,\n",
    "        'F':5,\n",
    "        'G':6,\n",
    "        'H':7,\n",
    "        'I':8,\n",
    "        'K':9,\n",
    "        'L':10,\n",
    "        'M':11,\n",
    "        'N':12,\n",
    "        'P':13,\n",
    "        'Q':14,\n",
    "        'R':15,\n",
    "        'S':16,\n",
    "        'T':17,\n",
    "        'V':18,\n",
    "        'W':19,\n",
    "        'Y':20,     \n",
    "    }\n",
    "    #return switcher.get(a, \"nothing\")\n",
    "    return switcher.get(a,0)"
   ]
  },
  {
   "cell_type": "code",
   "execution_count": 4,
   "metadata": {},
   "outputs": [],
   "source": [
    "# Function transform the Couplings in zero sum gauge and  Compute the Frobenius Norm\n",
    "def Frobenius(J):\n",
    "    F=np.zeros((L,L))\n",
    "    Fv=np.zeros(Np)\n",
    "    ind=np.zeros((Np,2)).astype(int)\n",
    "    indv=np.zeros((L,L)).astype(int)\n",
    "    l=0\n",
    "    for i in range (L):\n",
    "        for j in range(i+1,L):\n",
    "            #matrix  21x21 including also the gauge symbol\n",
    "            jinf2=np.zeros((q+1,q+1))\n",
    "            jinf2[0:q,0:q]=J[i*q:(i+1)*q,j*q:(j+1)*q]\n",
    "            #zero-sum matrix\n",
    "            #J_norm=np.transpose(np.transpose(jinf2 - np.mean(jinf2,0))\n",
    "            #                     - np.mean(jinf2,1)) + np.mean(jinf2)\n",
    "            J_norm=jinf2 - np.mean(jinf2,0)\n",
    "            J_norm=J_norm - np.mean(J_norm,1,keepdims=True)\n",
    "            #Frobenius norm\n",
    "            F[i,j] = LA.norm(J_norm)\n",
    "            F[j,i]=F[i,j]\n",
    "            ind[l,0]=i\n",
    "            ind[l,1]=j\n",
    "            Fv[l]=F[i,j]\n",
    "            indv[i,j]=l\n",
    "            l=l+1        \n",
    "    return [Fv,indv,F,ind]"
   ]
  },
  {
   "cell_type": "code",
   "execution_count": 5,
   "metadata": {},
   "outputs": [],
   "source": [
    "#Function to compute the Positive Predictive Value of predicted contacts when ranking pairs of contacts \n",
    "#in decreasing order of their Frobenious Norms and comparing with residues distances on the real structure 5PTI\n",
    "#(downloaded from PDB data base)\n",
    "\n",
    "def ppv(Finput,indv,ind):\n",
    "    #Sort Finput in reverse order \n",
    "    Fsort=np.sort(Finput)[::-1]\n",
    "    Fsort_index=np.argsort(Finput)[::-1]\n",
    "\n",
    "    #Read structural Distances\n",
    "    backmap_distances=np.loadtxt('Data/backmap_distances_e_PF00014.txt')\n",
    "    distv=np.ones(Np)*50;\n",
    "    lb=np.size(backmap_distances,0)\n",
    "    dist=np.zeros((L,L))\n",
    "    for l in range (lb):\n",
    "        i=int(backmap_distances[l,0]-1)\n",
    "        j=int(backmap_distances[l,1]-1)\n",
    "        dist[i,j]=backmap_distances[l,4]\n",
    "        leff=indv[i,j]\n",
    "        distv[leff]=backmap_distances[l,4]\n",
    "\n",
    "    #Positive Predicted Value for all contacts \n",
    "    sux=np.zeros(Np+1)\n",
    "    suxn=np.zeros(Np+1)\n",
    "    #2 residues are defined as in contact when their distances <= 8 Angstrom in the  cristallographic structure\n",
    "    dc2=8;\n",
    "    sux[0]=0\n",
    "    for i in range (Np):\n",
    "        if distv[Fsort_index[i]]<dc2:\n",
    "            sux[i+1]=sux[i]+1\n",
    "        else:\n",
    "            sux[i+1]=sux[i]\n",
    "        suxn[i+1]=sux[i+1]/(i+1)\n",
    "\n",
    "    #Positive Predicted Value for contacts distant along the backbone i-j>4\n",
    "    sud=np.zeros(Np+1)\n",
    "    sudn=np.zeros(Np+1)\n",
    "    dc2=8\n",
    "    sud[0]=0\n",
    "    ni=0\n",
    "    for i in range (Np):\n",
    "        if ind[Fsort_index[i],1]-ind[Fsort_index[i],0] >4:\n",
    "            if distv[Fsort_index[i]]<dc2:\n",
    "                        sud[ni+1]=sud[ni]+1\n",
    "            else:\n",
    "                        sud[ni+1]=sud[ni]  \n",
    "            sudn[ni+1]=sud[ni+1]/(ni+1)\n",
    "            ni=ni+1\n",
    "    return [suxn,sudn]\n",
    "    "
   ]
  },
  {
   "cell_type": "code",
   "execution_count": 6,
   "metadata": {},
   "outputs": [],
   "source": [
    "#Function to apply the Average Product Correction to the Frobenious Norm of the couplings\n",
    "def Apc(F):\n",
    "    #Average Product Correction which improves contact Predictions\n",
    "    Fapc=np.zeros(Np)\n",
    "    avcoupl1=np.sum(F,1)/L\n",
    "    sumj=np.sum(avcoupl1)/L\n",
    "    l=0\n",
    "    for i in range (L):\n",
    "        for j in range (i+1,L):\n",
    "            Fapc[l]=F[i,j]-avcoupl1[i]*avcoupl1[j]/sumj\n",
    "            l=l+1         \n",
    "    return Fapc           "
   ]
  },
  {
   "cell_type": "markdown",
   "metadata": {},
   "source": [
    "Question 1: Read the Data: PF0014 sequences form PFAM (2013). "
   ]
  },
  {
   "cell_type": "code",
   "execution_count": 6,
   "metadata": {},
   "outputs": [],
   "source": [
    "# Open the file and write in \"seqs\" a list containing all lines\n",
    "data=open('Data/seqPF14.txt', 'r')\n",
    "# readlines read all lines in the file in the variable \"seqs\".\n",
    "seqs = data.readlines()\n",
    "\n",
    "data.close()"
   ]
  },
  {
   "cell_type": "code",
   "execution_count": 7,
   "metadata": {},
   "outputs": [],
   "source": [
    "#Show data\n",
    "#seqs[0][:]"
   ]
  },
  {
   "cell_type": "markdown",
   "metadata": {},
   "source": [
    "Question 2: Convert the MSA alphabet from letters to numbers 0...20."
   ]
  },
  {
   "cell_type": "code",
   "execution_count": 8,
   "metadata": {},
   "outputs": [
    {
     "name": "stdout",
     "output_type": "stream",
     "text": [
      "Number of Sequences in the MSA M: 2143 Number of Residues in the sequence L: 53\n"
     ]
    }
   ],
   "source": [
    "#Extract M and L and convert the MSA in a numerical matrix\n",
    "M=np.size(seqs)\n",
    "L=len(seqs[0])-1\n",
    "Np=int(L*(L-1)/2)\n",
    "print( 'Number of Sequences in the MSA M:',M,'Number of Residues in the sequence L:', L)\n",
    "align=np.zeros((M,L)).astype(int)\n",
    "for m in range (M):\n",
    "    for i in range (L):\n",
    "        align[m,i]=letter2number(seqs[m][i])  "
   ]
  },
  {
   "cell_type": "markdown",
   "metadata": {},
   "source": [
    "Question 3: One Hot Encoding of  the alignment in a binary (M,20xL) array."
   ]
  },
  {
   "cell_type": "markdown",
   "metadata": {},
   "source": [
    "Question 4: Extract from the data the frequencies and connected correlations. "
   ]
  },
  {
   "cell_type": "markdown",
   "metadata": {},
   "source": [
    "Question 5: Add a pseudocount to regularize the data."
   ]
  },
  {
   "cell_type": "markdown",
   "metadata": {},
   "source": [
    "and Invert the Covariance matrix to obtain the Coupling Matrix. "
   ]
  },
  {
   "cell_type": "markdown",
   "metadata": {},
   "source": [
    "Question 6: Compute the Frobenious Norm to estimate the couplings strength for each pair of residues."
   ]
  },
  {
   "cell_type": "markdown",
   "metadata": {},
   "source": [
    " Question 7: Plot the positive predictive value (PPV) for the contact predictions for all pairs of resudues and for distant pairs along the sequence (i-j>4)."
   ]
  },
  {
   "cell_type": "markdown",
   "metadata": {},
   "source": [
    "Question 8: Apply the Average Product Correction to the Frobenious Norm of the Couplings and plot the PPV for nearby and distant pairs."
   ]
  },
  {
   "cell_type": "markdown",
   "metadata": {},
   "source": [
    "Question 10 (Bonus): Rank the contact directly from the Mutual Information, with the Average Product Correction, between the occurrences of two amino acids in sites i and j, obtained directly from the MSA and plot the PPV for contact prediction."
   ]
  },
  {
   "cell_type": "markdown",
   "metadata": {},
   "source": [
    "# Part 2. Question 9A: Implement the Graphical Lasso Algorithm and use it to infer  the couplings."
   ]
  },
  {
   "cell_type": "markdown",
   "metadata": {},
   "source": [
    "Fix  the regularization strength gamma to the expected optimal value and infer couplings."
   ]
  },
  {
   "cell_type": "markdown",
   "metadata": {},
   "source": [
    "Question 9B: Compare Frobenious Norm of Gaussian couplings with GLasso couplings."
   ]
  },
  {
   "cell_type": "markdown",
   "metadata": {},
   "source": [
    "Question 9C: Plot the positive predictive value (PPV) with Glasso  for the contact predictions for all pairs of resudues and distant pairs along the sequence (i-j>4)."
   ]
  },
  {
   "cell_type": "markdown",
   "metadata": {},
   "source": [
    "Question 9D: Apply the Average Product Correction to the Frobenious Norm of the Glasso Couplings and plot the PPV for nearby and distant pairs."
   ]
  },
  {
   "cell_type": "code",
   "execution_count": null,
   "metadata": {},
   "outputs": [],
   "source": []
  }
 ],
 "metadata": {
  "anaconda-cloud": {},
  "kernelspec": {
   "display_name": "Python 3",
   "language": "python",
   "name": "python3"
  },
  "language_info": {
   "codemirror_mode": {
    "name": "ipython",
    "version": 3
   },
   "file_extension": ".py",
   "mimetype": "text/x-python",
   "name": "python",
   "nbconvert_exporter": "python",
   "pygments_lexer": "ipython3",
   "version": "3.8.1"
  }
 },
 "nbformat": 4,
 "nbformat_minor": 1
}
