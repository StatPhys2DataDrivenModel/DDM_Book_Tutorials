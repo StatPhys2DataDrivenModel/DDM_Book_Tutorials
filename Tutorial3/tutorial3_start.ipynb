{
 "cells": [
  {
   "cell_type": "markdown",
   "metadata": {},
   "source": [
    "# From Statistical Physics to Data-Driven Modelling with Applications to Quantitative Biology\n",
    " \n",
    "Tutorial 3:replay of neural activity during sleep following task learning.  \n",
    "\n",
    "This tutorial is based on the works: \n",
    "\n",
    "-Replay of rule-learning related neural patterns in the prefrontal cortex during sleep, A. Peyrache, K. Benchenane, M. Khamassi, S. I. Wiener, F. P. Battaglia, Nature Neuroscience, DOI:10.1038/nn.2337 (2009).  \n",
    "-Principal component analysis of ensemble recordings reveals cell assemblies at high temporal resolution, A. Peyrache , K. Benchenane, M. Khamassi, S. I. Wiener, F. P. Battaglia, Journal of Computational Neuroscience, DOI:10.1007/s10827-009-0154-6 (2009).\n",
    "\n",
    "Starting Notebook SC, RM, FZ"
   ]
  },
  {
   "cell_type": "code",
   "execution_count": 2,
   "metadata": {},
   "outputs": [],
   "source": [
    "import numpy as np\n",
    "import math\n",
    "import matplotlib.pyplot as plt\n",
    "\n",
    "from scipy.sparse import coo_matrix\n",
    "import numpy.matlib\n",
    "from numpy import linalg as LA\n",
    "\n",
    "\n",
    "#%matplotlib inline\n",
    "#plt.rcParams[\"font.family\"] = \"serif\"\n",
    "#plt.rcParams[\"mathtext.fontset\"] = \"dejavuserif\"\n",
    "#plt.rcParams[\"figure.figsize\"] = (10, 8)\n",
    "#plt.rcParams[\"font.size\"] = 26"
   ]
  },
  {
   "cell_type": "markdown",
   "metadata": {},
   "source": [
    "Import data"
   ]
  },
  {
   "cell_type": "code",
   "execution_count": 3,
   "metadata": {},
   "outputs": [],
   "source": [
    "data1=np.loadtxt('./Data/Dati_181014_maze.txt')\n",
    "datatask=data1.astype(int)\n",
    "data2=np.loadtxt('./Data/Dati_181014_sleep1.txt')\n",
    "datapre=data2.astype(int)\n",
    "data3=np.loadtxt('./Data/Dati_181014_sleep2.txt')\n",
    "datapost=data3.astype(int)"
   ]
  },
  {
   "cell_type": "markdown",
   "metadata": {},
   "source": [
    "Question I: Raster Plot for the first 10 seconds of the Activity and for the 37 Neurons"
   ]
  },
  {
   "cell_type": "code",
   "execution_count": 12,
   "metadata": {},
   "outputs": [
    {
     "data": {
      "image/png": "[encoded data removed]",
      "text/plain": [
       "<matplotlib.figure.Figure at 0x112b352b0>"
      ]
     },
     "metadata": {},
     "output_type": "display_data"
    }
   ],
   "source": [
    "#Question 1: Raster Plot\n",
    "raster=data1\n",
    "tmin=np.min(raster[:,0])\n",
    "tmax=np.max(raster[:,0])\n",
    "plt.xlim([0,10])\n",
    "plt.ylim([-0.5,37.5])\n",
    "plt.vlines((raster[:,0]-tmin)/10000,raster[:,1]-0.3,raster[:,1]+0.3)\n",
    "plt.xlabel('time (s)')\n",
    "plt.ylabel('neuron')\n",
    "#plt.title('Raster plot')\n",
    "plt.tight_layout()\n",
    "#plt.savefig('raster_task_dt01t1sec.pdf')\n",
    "plt.show()\n"
   ]
  },
  {
   "cell_type": "markdown",
   "metadata": {},
   "source": [
    "Question 2: Functions to extract from data the neural activity matrix and the zscore matrix."
   ]
  },
  {
   "cell_type": "code",
   "execution_count": 24,
   "metadata": {},
   "outputs": [],
   "source": [
    "#Function smat: LxM activity matrix from the data. Gives the number of spikes at each time bin [n=1..M] for each neuron [i=1...38] \n",
    "    #time window of a bin (data are in 0.1 ms) dt=100 ms \n",
    "def smat(data):\n",
    "    dt=1000 \n",
    "    L=np.amax(data[:,1]).astype(int)\n",
    "    Ndata=np.size(data,0);\n",
    "    Tmin=np.amin(data[:,0])\n",
    "    Tmax=np.amax(data[:,0])\n",
    "    T=Tmax-Tmin\n",
    "    M=int(T//dt)+1\n",
    "    #y bin in which the neuron is active\n",
    "    y=(data[:,0]-Tmin)/dt\n",
    "    #x index of active neuron (starting from zero) \n",
    "    x=(data[:,1])-1\n",
    "    z=np.ones(Ndata)\n",
    "    s_sparse=coo_matrix((z,(x,y)),dtype=np.int8,shape=(L,M))\n",
    "    s=s_sparse.toarray()\n",
    "    #Alternative way without using sparse matrices\n",
    "    #s=np.zeros((L,M),dtype=int)\n",
    "    #for k in range(len(data)):\n",
    "    #    s[data[k,1]-1,(data[k,0]-Tmin)//dt]+=1\n",
    "    return s"
   ]
  },
  {
   "cell_type": "code",
   "execution_count": 25,
   "metadata": {},
   "outputs": [],
   "source": [
    "#Function Zscore: calculation of z-score from the data\n",
    "def Zscore(data):\n",
    "    Tmin=np.amin(data[:,0])\n",
    "    Tmax=np.amax(data[:,0])\n",
    "    T=Tmax-Tmin\n",
    "    M=int(T//dt)+1\n",
    "    s=smat(data)\n",
    "    f=np.mean(s,1)\n",
    "    sigma=np.std(s, axis=1, dtype=np.float64, ddof=1)\n",
    "    #s.T same as np.transpose(s) \n",
    "    #y is a matrix M x L to adapt to the usual data format\n",
    "    y=(s.T-f)/sigma \n",
    "    return y.astype(np.float64)\n",
    "    #return y\n",
    "\n"
   ]
  },
  {
   "cell_type": "markdown",
   "metadata": {},
   "source": [
    "Question 2: Compute Pearson matrix for data and diagonalize it. Compare the spectrum to the Marcenko Pastur distribution to extract the signal components associated to large eigenvalues. "
   ]
  },
  {
   "cell_type": "markdown",
   "metadata": {},
   "source": [
    "Question 3: Same as question 2 by reshuffling the spike times  for each neuron."
   ]
  },
  {
   "cell_type": "code",
   "execution_count": 26,
   "metadata": {},
   "outputs": [],
   "source": [
    "#Question 3: reshuffling the matrix\n",
    "Y=Zscore(datatask)\n",
    "Yshuffle=np.copy(Y)\n",
    "for i in range(np.size(Y,1)):\n",
    "    np.random.shuffle(Yshuffle[:,i])\n",
    "\n"
   ]
  },
  {
   "cell_type": "markdown",
   "metadata": {},
   "source": [
    "Question 4: Find the neurons that contribute the most to the principal component in the task."
   ]
  },
  {
   "cell_type": "markdown",
   "metadata": {},
   "source": [
    "Question 5: Computhe the total replay of the Sleep Pre and Sleep Post epochs."
   ]
  },
  {
   "cell_type": "markdown",
   "metadata": {},
   "source": [
    "Question 6: Plot the Reactivation of the first component over time in Sleep Pre and in Sleep Post."
   ]
  },
  {
   "cell_type": "markdown",
   "metadata": {},
   "source": [
    "Question 7 (Bonus): Plot the Reactivation of each component as a function of its eigenvalue. Plot the scatter of the reactivations of the components of the Sleep Post and Sleep Pre."
   ]
  },
  {
   "cell_type": "code",
   "execution_count": null,
   "metadata": {},
   "outputs": [],
   "source": []
  }
 ],
 "metadata": {
  "anaconda-cloud": {},
  "kernelspec": {
   "display_name": "Python 3",
   "language": "python",
   "name": "python3"
  },
  "language_info": {
   "codemirror_mode": {
    "name": "ipython",
    "version": 3
   },
   "file_extension": ".py",
   "mimetype": "text/x-python",
   "name": "python",
   "nbconvert_exporter": "python",
   "pygments_lexer": "ipython3",
   "version": "3.8.1"
  }
 },
 "nbformat": 4,
 "nbformat_minor": 1
}
