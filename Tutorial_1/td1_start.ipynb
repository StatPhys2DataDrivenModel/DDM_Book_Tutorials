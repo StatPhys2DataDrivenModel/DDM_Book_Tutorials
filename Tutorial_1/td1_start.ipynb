{
 "cells": [
  {
   "cell_type": "markdown",
   "metadata": {},
   "source": [
    "# From Statistical Physics  to Data-Driven Modelling with Applications in Quantitative Biology : Tutorial 1\n",
    "Bayesian inference and single-particle tracking"
   ]
  },
  {
   "cell_type": "code",
   "execution_count": 1,
   "metadata": {},
   "outputs": [],
   "source": [
    "import numpy as np\n",
    "import math\n",
    "import matplotlib.pyplot as plt\n"
   ]
  },
  {
   "cell_type": "markdown",
   "metadata": {},
   "source": [
    "read  time series t, x(t),y(t) generated with a drift D "
   ]
  },
  {
   "cell_type": "code",
   "execution_count": 5,
   "metadata": {},
   "outputs": [],
   "source": [
    "data1=np.loadtxt('Data1/dataM1000d2.5.dat')\n",
    "\n",
    "#read the number of data point from the data\n",
    "N=np.size(data1[:,1])"
   ]
  },
  {
   "cell_type": "markdown",
   "metadata": {},
   "source": [
    "Q1: Plot the trajectories and give a rough estimation of the diffusion coefficient from the data."
   ]
  },
  {
   "cell_type": "markdown",
   "metadata": {},
   "source": [
    "Q4:  Plot the Posterior Distribution of the Diffusion Coefficient for the 3 data sets in Data1.  Compute, for the given dataset, the values of the mean and of the variance of D, and its most likely value. Compare the results obtained with different number M of measures and with the analythical resuls."
   ]
  },
  {
   "cell_type": "code",
   "execution_count": null,
   "metadata": {
    "collapsed": true
   },
   "outputs": [],
   "source": []
  }
 ],
 "metadata": {
  "anaconda-cloud": {},
  "kernelspec": {
   "display_name": "Python 3",
   "language": "python",
   "name": "python3"
  },
  "language_info": {
   "codemirror_mode": {
    "name": "ipython",
    "version": 3
   },
   "file_extension": ".py",
   "mimetype": "text/x-python",
   "name": "python",
   "nbconvert_exporter": "python",
   "pygments_lexer": "ipython3",
   "version": "3.8.1"
  }
 },
 "nbformat": 4,
 "nbformat_minor": 1
}
