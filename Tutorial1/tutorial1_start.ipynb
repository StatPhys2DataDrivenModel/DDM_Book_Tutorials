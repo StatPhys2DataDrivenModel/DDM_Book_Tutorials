{
 "cells": [
  {
   "cell_type": "markdown",
   "metadata": {},
   "source": [
    "# From Statistical Physics to Data-Driven Modelling\n",
    "             with Applications to Quantitative Biology\n",
    "\n",
    "Tutorial 1 starting Notebook   SC, RM, FZ "
   ]
  },
  {
   "cell_type": "code",
   "execution_count": 1,
   "metadata": {},
   "outputs": [],
   "source": [
    "import numpy as np\n",
    "import math\n",
    "import matplotlib.pyplot as plt\n"
   ]
  },
  {
   "cell_type": "code",
   "execution_count": 4,
   "metadata": {},
   "outputs": [],
   "source": [
    "\n",
    "#read time series t, x(t),y(t) generated with a drift D \n",
    "data=np.loadtxt('Data/dataM1000d2.5.dat')\n",
    "#data=np.loadtxt('Data/dataM100d2.5.dat')\n",
    "#data=np.loadtxt('Data/dataM10d2.5.dat')\n",
    "\n",
    "#read the number of data point from the data\n",
    "M=np.size(data[:,1])\n",
    "\n",
    "#compute one estimate of the diffusion Coefficient D\n",
    "\n",
    "#compute another estimate of the diffusion Coefficient D\n",
    "\n",
    "\n",
    "# Plot the trajectory  \n"
   ]
  },
  {
   "cell_type": "code",
   "execution_count": 5,
   "metadata": {},
   "outputs": [],
   "source": [
    "#Compute the Posterior Distribution for the Diffusion Coefficient,the Most Probable Value, the Average Value \n",
    "#and the standard deviation\n",
    " \n"
   ]
  },
  {
   "cell_type": "code",
   "execution_count": 6,
   "metadata": {},
   "outputs": [],
   "source": [
    "# Plot the Posterior Distribution of the Diffusion coefficient\n",
    "\n"
   ]
  }
 ],
 "metadata": {
  "anaconda-cloud": {},
  "kernelspec": {
   "display_name": "Python 3",
   "language": "python",
   "name": "python3"
  },
  "language_info": {
   "codemirror_mode": {
    "name": "ipython",
    "version": 3
   },
   "file_extension": ".py",
   "mimetype": "text/x-python",
   "name": "python",
   "nbconvert_exporter": "python",
   "pygments_lexer": "ipython3",
   "version": "3.8.1"
  }
 },
 "nbformat": 4,
 "nbformat_minor": 1
}
