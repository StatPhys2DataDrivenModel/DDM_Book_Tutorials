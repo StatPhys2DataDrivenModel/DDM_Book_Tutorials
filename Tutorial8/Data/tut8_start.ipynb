{
 "cells": [
  {
   "cell_type": "code",
   "execution_count": null,
   "metadata": {
    "collapsed": true
   },
   "outputs": [],
   "source": [
    "#Information, Inference Networks: Tutorial 6.  S.C., R.M., F.Z.\n",
    "#Hidden Markov Model\n",
    "import numpy as np\n",
    "import math\n",
    "import matplotlib.pyplot as plt\n",
    "from scipy.sparse import coo_matrix\n",
    "import numpy.matlib\n",
    "import numpy.linalg as LA\n",
    "from numpy.linalg import inv"
   ]
  },
  {
   "cell_type": "code",
   "execution_count": null,
   "metadata": {
    "collapsed": true
   },
   "outputs": [],
   "source": [
    "def letter2number(a): \n",
    "    #to convert the basis letters into integer numbers from 1 to 4\n",
    "    switcher = {\n",
    "        'a': 1,\n",
    "        'c': 2,\n",
    "        'g': 3,\n",
    "        't': 4,\n",
    "    }\n",
    "    return switcher.get(a,0)   #return 0 if the symbol is not found"
   ]
  },
  {
   "cell_type": "code",
   "execution_count": null,
   "metadata": {},
   "outputs": [],
   "source": [
    "# Open the file and write a list containing all lines. Join them.\n",
    "data=open('lambdaphage.txt', 'r')\n",
    "phageread1 = data.readlines()\n",
    "phageread2 = ''.join(phageread1)\n",
    "data.close()\n",
    "# Convert the letters into numbers from 0 to 3\n",
    "seq = []\n",
    "for i in range(len(phageread2)):\n",
    "    y = letter2number(phageread2[i])\n",
    "    if (y!=0):\n",
    "        seq.append(y-1)\n",
    "L=len(seq)\n",
    "print(L)"
   ]
  },
  {
   "cell_type": "code",
   "execution_count": null,
   "metadata": {},
   "outputs": [],
   "source": [
    "E=np.zeros((2,4))\n",
    "E[0,:]=np.array([0.2700,0.2084,0.1981,0.3235])   #type 0 is AT-rich\n",
    "E[1,:]=np.array([0.2462,0.2476,0.2985,0.2077])   #type 1 is CG-rich\n",
    "beta = np.log(E[1,:]/E[0,:])\n",
    "print(E,'\\n',beta)"
   ]
  },
  {
   "cell_type": "code",
   "execution_count": null,
   "metadata": {
    "collapsed": true
   },
   "outputs": [],
   "source": []
  }
 ],
 "metadata": {
  "anaconda-cloud": {},
  "kernelspec": {
   "display_name": "Python 3",
   "language": "python",
   "name": "python3"
  },
  "language_info": {
   "codemirror_mode": {
    "name": "ipython",
    "version": 3
   },
   "file_extension": ".py",
   "mimetype": "text/x-python",
   "name": "python",
   "nbconvert_exporter": "python",
   "pygments_lexer": "ipython3",
   "version": "3.6.3"
  }
 },
 "nbformat": 4,
 "nbformat_minor": 1
}
