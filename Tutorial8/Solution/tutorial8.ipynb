{
 "cells": [
  {
   "cell_type": "markdown",
   "metadata": {},
   "source": [
    "# From Statistical Physics to Data-Driven Modelling with Applications to Quantitative Biology\n",
    "Tutorial 8 : Hidden Markov Models for CG content variations in viral genomes.\n",
    "\n",
    "This tutorial is based on the Chapter 3 of the book:\n",
    "     R. Durbin, S. Eddy, A. Krogh, G. Mitchison, Biological sequence analysis, Cambridge University Press 2007. \n",
    "\n",
    "Solution Notebook SC RM FZ."
   ]
  },
  {
   "cell_type": "code",
   "execution_count": 1,
   "metadata": {},
   "outputs": [],
   "source": [
    "#Information, Inference Networks: Tutorial 6.  S.C., R.M., F.Z.\n",
    "#Hidden Markov Model\n",
    "import numpy as np\n",
    "import math\n",
    "import matplotlib.pyplot as plt\n",
    "from scipy.sparse import coo_matrix\n",
    "import numpy.matlib\n",
    "%matplotlib inline\n",
    "#plt.rcParams[\"font.family\"] = \"serif\"\n",
    "#plt.rcParams[\"mathtext.fontset\"] = \"dejavuserif\"\n",
    "#plt.rcParams[\"figure.figsize\"] = (10, 8)\n",
    "#plt.rcParams[\"font.size\"] = 26\n",
    "\n",
    "import numpy.linalg as LA\n",
    "from numpy.linalg import inv"
   ]
  },
  {
   "cell_type": "code",
   "execution_count": 2,
   "metadata": {},
   "outputs": [],
   "source": [
    "#Function to convert the basis letters into integer numbers from 1 to 4 \n",
    "def letter2number(a): \n",
    "    \n",
    "    switcher = {\n",
    "        'a': 1,\n",
    "        'c': 2,\n",
    "        'g': 3,\n",
    "        't': 4,\n",
    "    }\n",
    "    return switcher.get(a,0)"
   ]
  },
  {
   "cell_type": "markdown",
   "metadata": {},
   "source": [
    "Read Lambda phage genome"
   ]
  },
  {
   "cell_type": "code",
   "execution_count": 3,
   "metadata": {},
   "outputs": [
    {
     "name": "stdout",
     "output_type": "stream",
     "text": [
      "48502\n"
     ]
    }
   ],
   "source": [
    "# Read a Sequence data and return a sequence of  numbers\n",
    "# Open the file and write a list containing all lines. Join them.\n",
    "data=open('../Data/lambdaphage.txt', 'r')\n",
    "phageread1 = data.readlines()\n",
    "phageread2 = ''.join(phageread1)\n",
    "data.close()\n",
    "# Convert the letters into numbers from 0 to 3\n",
    "seq = []\n",
    "for i in range(len(phageread2)):\n",
    "    y = letter2number(phageread2[i])\n",
    "    if (y!=0):\n",
    "        seq.append(y-1)\n",
    "L=len(seq)\n",
    "print(L)"
   ]
  },
  {
   "cell_type": "markdown",
   "metadata": {},
   "source": [
    "Define Emission probabilities for AT and GC rich regions"
   ]
  },
  {
   "cell_type": "code",
   "execution_count": 10,
   "metadata": {},
   "outputs": [
    {
     "name": "stdout",
     "output_type": "stream",
     "text": [
      "[[0.27   0.2084 0.1981 0.3235]\n",
      " [0.2462 0.2476 0.2985 0.2077]] \n",
      " [-0.09227775  0.17235523  0.40999798 -0.44310438]\n"
     ]
    }
   ],
   "source": [
    "E=np.zeros((2,4))\n",
    "E[0,:]=np.array([0.2700,0.2084,0.1981,0.3235])   #type 0 is AT-rich\n",
    "E[1,:]=np.array([0.2462,0.2476,0.2985,0.2077])   #type 1 is CG-rich\n"
   ]
  },
  {
   "cell_type": "markdown",
   "metadata": {},
   "source": [
    "Question 2: Decide the type (AT or GC rich) of a sequence by using Bayesian inference, guess the type for the the first and second halves of the genome"
   ]
  },
  {
   "cell_type": "code",
   "execution_count": 19,
   "metadata": {},
   "outputs": [
    {
     "name": "stdout",
     "output_type": "stream",
     "text": [
      "[[0.27   0.2084 0.1981 0.3235]\n",
      " [0.2462 0.2476 0.2985 0.2077]] \n",
      " [-0.09227775  0.17235523  0.40999798 -0.44310438]\n"
     ]
    }
   ],
   "source": [
    "#Differences of the log-probabilities between the 2 models for each nucleotide \n",
    "beta = np.log(E[1,:]/E[0,:])\n",
    "print(E,'\\n',beta)"
   ]
  },
  {
   "cell_type": "code",
   "execution_count": 20,
   "metadata": {},
   "outputs": [],
   "source": [
    "def decide_type (y,beta):\n",
    "    R=0\n",
    "    for i in range(len(y)):\n",
    "        R+=beta[y[i]]\n",
    "    d=int(R>0)\n",
    "    return d"
   ]
  },
  {
   "cell_type": "code",
   "execution_count": 22,
   "metadata": {},
   "outputs": [
    {
     "name": "stdout",
     "output_type": "stream",
     "text": [
      "1 0\n"
     ]
    }
   ],
   "source": [
    "#Question 2: result for the first and second halves of the genome\n",
    "print(decide_type(seq[0:int(L/2)],beta),decide_type(seq[int(L/2):],beta))"
   ]
  },
  {
   "cell_type": "markdown",
   "metadata": {},
   "source": [
    "Question 3: Compute the average CG content of a sequence."
   ]
  },
  {
   "cell_type": "code",
   "execution_count": 13,
   "metadata": {},
   "outputs": [],
   "source": [
    "#Function which compute the average GC content\n",
    "def CGcontent (y):\n",
    "    w=np.copy(y)\n",
    "    return (np.size(np.where(w==1))+ np.size(np.where(w==2)))/np.size(w)"
   ]
  },
  {
   "cell_type": "markdown",
   "metadata": {},
   "source": [
    "Question 5: Implement the Viterbi algorithm."
   ]
  },
  {
   "cell_type": "code",
   "execution_count": 23,
   "metadata": {},
   "outputs": [],
   "source": [
    "#Question 5: Viterbi algorithm\n",
    "#define transition probabilities between hidden states; here r(x,x')=Omega(x->x')\n",
    "r=np.zeros((2,2))\n",
    "r[0,0]=0.9998\n",
    "r[1,1]=0.9998\n",
    "r[0,1]=0.0002\n",
    "r[1,0]=0.0002\n",
    "#Forward Propagation Viterbi Algorithm\n",
    "#find x(i) and lp(i) by maximising over the two hidden states in i+1\n",
    "#value of the loglikelihood maximised over all hidden units except the ith-hidden state\n",
    "vp=-np.log(2)*np.ones(2)\n",
    "vptmp=np.zeros(2)\n",
    "# most probable ith hidden unit value as a function of the hidden state i+1 \n",
    "xp=np.zeros((L,2)).astype(int)\n",
    "for i in range (L-1):\n",
    "    for x in range(2):\n",
    "        lp=vp+np.log(E[:,seq[i]])+np.log(r[:,x])\n",
    "        vptmp[x]=np.amax(lp)\n",
    "        xp[i,x]=np.argmax(lp)\n",
    "    vp=np.copy(vptmp)\n",
    "#overall log-prob of the sequence\n",
    "lp=vp+np.log(E[:,seq[L-1]])\n",
    "vplast=np.amax(lp)\n",
    "xf=np.zeros(L).astype(int)\n",
    "#most probable hidden variable for the last base\n",
    "xf[L-1]=np.argmax(lp)\n",
    "#Backpropagation to find the most probable sequence of hidden states\n",
    "for i in range(L-2,-1,-1):\n",
    "    xf[i]=xp[i,xf[i+1]]\n"
   ]
  },
  {
   "cell_type": "markdown",
   "metadata": {},
   "source": [
    "Questions 4 and 5. Plot the decision and the average CG content on a width k."
   ]
  },
  {
   "cell_type": "code",
   "execution_count": 27,
   "metadata": {},
   "outputs": [
    {
     "data": {
      "image/png": "[encoded data removed]",
      "text/plain": [
       "<matplotlib.figure.Figure at 0x1368db7b8>"
      ]
     },
     "metadata": {},
     "output_type": "display_data"
    }
   ],
   "source": [
    "#Plot the decision and the average CG content on a width k\n",
    "k=200\n",
    "w=range(0,L-k,k)\n",
    "xplot=[]\n",
    "y1=[]\n",
    "y2=[]\n",
    "for i in w:\n",
    "    xplot.append(i+k/2)\n",
    "    y1.append(decide_type(seq[i:i+k],beta))\n",
    "    y2.append(CGcontent(seq[i:i+k]))\n",
    "xx=range(0,L)\n",
    "c1,=plt.plot(xplot,y1,'ko',label='Decision')\n",
    "c2,=plt.plot(xplot,y2,'kx',label='CG content ')\n",
    "c3,=plt.plot(xx,xf,'k',label='Hidden unit')\n",
    "plt.legend (handles=[c1,c2,c3],loc=3)\n",
    "plt.title(\"Sliding window $k=200$\")\n",
    "plt.xlabel(\"Position along the genome sequence\")\n",
    "plt.xlim([0,L])\n",
    "plt.ylim([-0.1,1.1])\n",
    "#plt.text(0, 1.12, 'A', fontweight='bold')\n",
    "plt.tight_layout()\n",
    "#plt.savefig('HMMlambdaseq_200.pdf')\n",
    "plt.show()"
   ]
  },
  {
   "cell_type": "code",
   "execution_count": null,
   "metadata": {
    "collapsed": true
   },
   "outputs": [],
   "source": []
  }
 ],
 "metadata": {
  "anaconda-cloud": {},
  "kernelspec": {
   "display_name": "Python 3",
   "language": "python",
   "name": "python3"
  },
  "language_info": {
   "codemirror_mode": {
    "name": "ipython",
    "version": 3
   },
   "file_extension": ".py",
   "mimetype": "text/x-python",
   "name": "python",
   "nbconvert_exporter": "python",
   "pygments_lexer": "ipython3",
   "version": "3.8.1"
  }
 },
 "nbformat": 4,
 "nbformat_minor": 1
}
