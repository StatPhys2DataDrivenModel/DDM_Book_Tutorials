{
 "cells": [
  {
   "cell_type": "markdown",
   "metadata": {},
   "source": [
    "# From Statistical Physics to Data-Driven Modelling with Applications to Quantitative Biology\n",
    "Tutorial 8 : Hidden Markov Models for CG content variations in viral genomes.\n",
    "\n",
    "This tutorial is based on the Chapter 3 of the book:\n",
    "     R. Durbin, S. Eddy, A. Krogh, G. Mitchison, Biological sequence analysis, Cambridge University Press 2007. \n",
    "\n",
    "Starting Notebook SC RM FZ."
   ]
  },
  {
   "cell_type": "code",
   "execution_count": 1,
   "metadata": {},
   "outputs": [],
   "source": [
    "#Information, Inference Networks: Tutorial 6.  S.C., R.M., F.Z.\n",
    "#Hidden Markov Model\n",
    "import numpy as np\n",
    "import math\n",
    "import matplotlib.pyplot as plt\n",
    "from scipy.sparse import coo_matrix\n",
    "import numpy.matlib\n",
    "%matplotlib inline\n",
    "#plt.rcParams[\"font.family\"] = \"serif\"\n",
    "#plt.rcParams[\"mathtext.fontset\"] = \"dejavuserif\"\n",
    "#plt.rcParams[\"figure.figsize\"] = (10, 8)\n",
    "#plt.rcParams[\"font.size\"] = 26\n",
    "\n",
    "import numpy.linalg as LA\n",
    "from numpy.linalg import inv"
   ]
  },
  {
   "cell_type": "code",
   "execution_count": 2,
   "metadata": {},
   "outputs": [],
   "source": [
    "#Function to convert the basis letters into integer numbers from 1 to 4 \n",
    "def letter2number(a): \n",
    "    \n",
    "    switcher = {\n",
    "        'a': 1,\n",
    "        'c': 2,\n",
    "        'g': 3,\n",
    "        't': 4,\n",
    "    }\n",
    "    return switcher.get(a,0)"
   ]
  },
  {
   "cell_type": "markdown",
   "metadata": {},
   "source": [
    "Read Lambda phage genome."
   ]
  },
  {
   "cell_type": "code",
   "execution_count": 5,
   "metadata": {},
   "outputs": [
    {
     "name": "stdout",
     "output_type": "stream",
     "text": [
      "48502\n"
     ]
    }
   ],
   "source": [
    "# Read a Sequence data and return a sequence of  numbers\n",
    "# Open the file and write a list containing all lines. Join them.\n",
    "data=open('./Data/lambdaphage.txt', 'r')\n",
    "phageread1 = data.readlines()\n",
    "phageread2 = ''.join(phageread1)\n",
    "data.close()\n",
    "# Convert the letters into numbers from 0 to 3\n",
    "seq = []\n",
    "for i in range(len(phageread2)):\n",
    "    y = letter2number(phageread2[i])\n",
    "    if (y!=0):\n",
    "        seq.append(y-1)\n",
    "L=len(seq)\n",
    "print(L)"
   ]
  },
  {
   "cell_type": "markdown",
   "metadata": {},
   "source": [
    "Define emission probabilities for AT and GC rich regions."
   ]
  },
  {
   "cell_type": "code",
   "execution_count": 10,
   "metadata": {},
   "outputs": [
    {
     "name": "stdout",
     "output_type": "stream",
     "text": [
      "[[0.27   0.2084 0.1981 0.3235]\n",
      " [0.2462 0.2476 0.2985 0.2077]] \n",
      " [-0.09227775  0.17235523  0.40999798 -0.44310438]\n"
     ]
    }
   ],
   "source": [
    "E=np.zeros((2,4))\n",
    "E[0,:]=np.array([0.2700,0.2084,0.1981,0.3235])   #type 0 is AT-rich\n",
    "E[1,:]=np.array([0.2462,0.2476,0.2985,0.2077])   #type 1 is CG-rich\n"
   ]
  },
  {
   "cell_type": "markdown",
   "metadata": {},
   "source": [
    "Question 2: Decide the type (AT or GC rich) of a sequence by using Bayesian inference, guess the type for the the first and second halves of the genome."
   ]
  },
  {
   "cell_type": "markdown",
   "metadata": {},
   "source": [
    "Question 3: Compute the average CG content of a sequence."
   ]
  },
  {
   "cell_type": "markdown",
   "metadata": {},
   "source": [
    "Question 5: Implement the Viterbi algorithm,"
   ]
  },
  {
   "cell_type": "markdown",
   "metadata": {},
   "source": [
    "Questions 4 and 5: Plot the decision and the average CG content on a width k."
   ]
  },
  {
   "cell_type": "code",
   "execution_count": null,
   "metadata": {
    "collapsed": true
   },
   "outputs": [],
   "source": []
  }
 ],
 "metadata": {
  "anaconda-cloud": {},
  "kernelspec": {
   "display_name": "Python 3",
   "language": "python",
   "name": "python3"
  },
  "language_info": {
   "codemirror_mode": {
    "name": "ipython",
    "version": 3
   },
   "file_extension": ".py",
   "mimetype": "text/x-python",
   "name": "python",
   "nbconvert_exporter": "python",
   "pygments_lexer": "ipython3",
   "version": "3.8.1"
  }
 },
 "nbformat": 4,
 "nbformat_minor": 1
}
