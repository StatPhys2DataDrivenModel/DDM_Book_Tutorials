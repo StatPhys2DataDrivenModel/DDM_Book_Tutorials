{
 "cells": [
  {
   "cell_type": "code",
   "execution_count": null,
   "metadata": {
    "collapsed": true
   },
   "outputs": [],
   "source": [
    "#Preliminaries: basic functions and matrix P\n",
    "\n",
    "import numpy as np\n",
    "import math\n",
    "import matplotlib.pyplot as plt\n",
    "from scipy.sparse import coo_matrix\n",
    "import numpy.matlib\n",
    "from random import randint\n",
    "from sklearn import linear_model\n",
    "\n",
    "\n",
    "L=10\n",
    "ttL=2**L\n",
    "useoverlap=False\n",
    "#useoverlap=True\n",
    "\n",
    "def Pmatrix (overlap):\n",
    "    if (overlap):\n",
    "        Lp=int(L*(L+1)/2.)\n",
    "    else:\n",
    "        Lp=L\n",
    "    Pr=np.zeros((2**L-1,Lp)).astype(int)\n",
    "    for i in range(2**L-1):\n",
    "        for j in range(L):\n",
    "            Pr[i,j]=(i+1)>>j&1  #check https://wiki.python.org/moin/BitwiseOperators\n",
    "        if (overlap):\n",
    "            rpart=Pr[i,:]\n",
    "            #locate the ones in the vector\n",
    "            ind=np.where(rpart==1)[0].astype(int)\n",
    "            nb1=np.size(ind)\n",
    "            #put the ones for the pairs\n",
    "            for ii in range (nb1-1):\n",
    "                xi=ind[ii]\n",
    "                xj=ind[ii+1]\n",
    "                ip=( -np.power(xi,2)/2+xj+xi*(-3/2+L) ).astype(int) \n",
    "                #use https://en.wikipedia.org/wiki/1_%2B_2_%2B_3_%2B_4_%2B_⋯\n",
    "                Pr[i,L+ip-1]=1\n",
    "    return Pr\n",
    "\n",
    "#Build the matrix P\n",
    "P = Pmatrix(useoverlap)\n"
   ]
  },
  {
   "cell_type": "code",
   "execution_count": null,
   "metadata": {
    "collapsed": true
   },
   "outputs": [],
   "source": [
    "np.set_printoptions(threshold=np.inf)\n",
    "print(P)"
   ]
  },
  {
   "cell_type": "code",
   "execution_count": null,
   "metadata": {
    "collapsed": true
   },
   "outputs": [],
   "source": [
    "#Routine lasso\n",
    "\n",
    "#Finds minimum of 1/(2L) (y - P theta)^2 + gamma |theta|, L=sizeof(y)\n",
    "def mylasso(P,y,gamma):\n",
    "    # TO BE WRITTEN\n",
    "    return 0\n",
    "\n",
    "def mylasso_python(P,y,gamma):\n",
    "    clf = linear_model.Lasso(alpha=gamma,positive=True,fit_intercept=False,max_iter=100000)\n",
    "    clf.fit(P, y) \n",
    "    return clf.coef_"
   ]
  },
  {
   "cell_type": "code",
   "execution_count": null,
   "metadata": {
    "collapsed": true
   },
   "outputs": [],
   "source": [
    "# Read data (L has to be known and fixed above)\n",
    "if (useoverlap):\n",
    "    y=np.loadtxt('dataNe2Nt5.dat',dtype=np.int16)\n",
    "else:\n",
    "    y=np.loadtxt('dataNe2Nt5-nooverlap.dat',dtype=np.int16)\n",
    "\n",
    "print(y)\n",
    "thetaread=np.loadtxt('transcriptscpnbNe2Nt5.dat',dtype=np.int16)\n",
    "Nt=np.size(thetaread,0)\n",
    "theta=np.zeros(ttL-1,dtype=np.int)\n",
    "for i in range(Nt):\n",
    "    theta[thetaread[i,0]]=thetaread[i,1]\n",
    "print(coo_matrix(theta))\n",
    "ytest = np.dot(P.T,theta)\n",
    "print(ytest)"
   ]
  },
  {
   "cell_type": "code",
   "execution_count": null,
   "metadata": {
    "collapsed": true
   },
   "outputs": [],
   "source": [
    "# Question 2: Data analysis for a single gamma\n",
    "mygamma=1\n",
    "thetainf=mylasso_python(P.T,y,mygamma)\n",
    "print(coo_matrix(thetainf))"
   ]
  },
  {
   "cell_type": "code",
   "execution_count": null,
   "metadata": {
    "collapsed": true
   },
   "outputs": [],
   "source": []
  }
 ],
 "metadata": {
  "anaconda-cloud": {},
  "kernelspec": {
   "display_name": "Python 3",
   "language": "python",
   "name": "python3"
  },
  "language_info": {
   "codemirror_mode": {
    "name": "ipython",
    "version": 3
   },
   "file_extension": ".py",
   "mimetype": "text/x-python",
   "name": "python",
   "nbconvert_exporter": "python",
   "pygments_lexer": "ipython3",
   "version": "3.6.3"
  }
 },
 "nbformat": 4,
 "nbformat_minor": 1
}
